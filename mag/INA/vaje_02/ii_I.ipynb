{
 "cells": [
  {
   "cell_type": "markdown",
   "id": "4a9a4bfa",
   "metadata": {},
   "source": [
    "###### Introduction to Network Analysis 2023/24 (ii)\n",
    "\n",
    "## Network representations, basic network algorithms\n",
    "\n",
    "You are given four networks in Pajek format that was presented in lectures.\n",
    "\n",
    "+ Tiny toy network for testing ([toy.net](http://lovro.fri.uni-lj.si/ina/nets/toy.net))\n",
    "+ Zachary karate club network ([karate_club.net](http://lovro.fri.uni-lj.si/ina/nets/karate_club.net))\n",
    "+ iMDB actors collaboration network ([collaboration_imdb.net](http://lovro.fri.uni-lj.si/ina/nets/collaboration_imdb.net))\n",
    "+ A small part of Google web graph ([www_google.net](http://lovro.fri.uni-lj.si/ina/nets/www_google.net))"
   ]
  },
  {
   "cell_type": "markdown",
   "id": "d73c2a09",
   "metadata": {},
   "source": [
    "### I. Adjacency list representation\n",
    "\n"
   ]
  },
  {
   "cell_type": "markdown",
   "id": "bae0fae8",
   "metadata": {},
   "source": [
    "1. **(code)** Assume that all networks are undirected. Implement your own adjacency list representation of the networks as an array of lists and represent all four networks.\n",
    "\n"
   ]
  },
  {
   "cell_type": "code",
   "execution_count": 14,
   "id": "711d00eb",
   "metadata": {},
   "outputs": [
    {
     "name": "stdout",
     "output_type": "stream",
     "text": [
      "--2024-03-04 12:33:59--  http://lovro.fri.uni-lj.si/ina/nets/toy.net\n",
      "Resolving lovro.fri.uni-lj.si (lovro.fri.uni-lj.si)... 2606:50c0:8001::153, 2606:50c0:8002::153, 2606:50c0:8003::153, ...\n",
      "Connecting to lovro.fri.uni-lj.si (lovro.fri.uni-lj.si)|2606:50c0:8001::153|:80... connected.\n",
      "HTTP request sent, awaiting response... 301 Moved Permanently\n",
      "Location: https://lovro.fri.uni-lj.si/ina/nets/toy.net [following]\n",
      "--2024-03-04 12:33:59--  https://lovro.fri.uni-lj.si/ina/nets/toy.net\n",
      "Connecting to lovro.fri.uni-lj.si (lovro.fri.uni-lj.si)|2606:50c0:8001::153|:443... connected.\n",
      "HTTP request sent, awaiting response... 200 OK\n",
      "Length: 66 [application/octet-stream]\n",
      "Saving to: ‘toy.net.1’\n",
      "\n",
      "toy.net.1           100%[===================>]      66  --.-KB/s    in 0s      \n",
      "\n",
      "2024-03-04 12:34:00 (6.44 MB/s) - ‘toy.net.1’ saved [66/66]\n",
      "\n",
      "--2024-03-04 12:34:00--  http://lovro.fri.uni-lj.si/ina/nets/karate_club.net\n",
      "Resolving lovro.fri.uni-lj.si (lovro.fri.uni-lj.si)... 2606:50c0:8000::153, 2606:50c0:8001::153, 2606:50c0:8003::153, ...\n",
      "Connecting to lovro.fri.uni-lj.si (lovro.fri.uni-lj.si)|2606:50c0:8000::153|:80... connected.\n",
      "HTTP request sent, awaiting response... 301 Moved Permanently\n",
      "Location: https://lovro.fri.uni-lj.si/ina/nets/karate_club.net [following]\n",
      "--2024-03-04 12:34:00--  https://lovro.fri.uni-lj.si/ina/nets/karate_club.net\n",
      "Connecting to lovro.fri.uni-lj.si (lovro.fri.uni-lj.si)|2606:50c0:8000::153|:443... connected.\n",
      "HTTP request sent, awaiting response... 200 OK\n",
      "Length: 752 [application/octet-stream]\n",
      "Saving to: ‘karate_club.net’\n",
      "\n",
      "karate_club.net     100%[===================>]     752  --.-KB/s    in 0s      \n",
      "\n",
      "2024-03-04 12:34:01 (55.5 MB/s) - ‘karate_club.net’ saved [752/752]\n",
      "\n",
      "--2024-03-04 12:34:01--  http://lovro.fri.uni-lj.si/ina/nets/collaboration_imdb.net\n",
      "Resolving lovro.fri.uni-lj.si (lovro.fri.uni-lj.si)... 2606:50c0:8003::153, 2606:50c0:8001::153, 2606:50c0:8002::153, ...\n",
      "Connecting to lovro.fri.uni-lj.si (lovro.fri.uni-lj.si)|2606:50c0:8003::153|:80... connected.\n",
      "HTTP request sent, awaiting response... 301 Moved Permanently\n",
      "Location: https://lovro.fri.uni-lj.si/ina/nets/collaboration_imdb.net [following]\n",
      "--2024-03-04 12:34:02--  https://lovro.fri.uni-lj.si/ina/nets/collaboration_imdb.net\n",
      "Connecting to lovro.fri.uni-lj.si (lovro.fri.uni-lj.si)|2606:50c0:8003::153|:443... connected.\n",
      "HTTP request sent, awaiting response... 200 OK\n",
      "Length: 3496761 (3.3M) [application/octet-stream]\n",
      "Saving to: ‘collaboration_imdb.net’\n",
      "\n",
      "collaboration_imdb. 100%[===================>]   3.33M   920KB/s    in 3.7s    \n",
      "\n",
      "2024-03-04 12:34:06 (920 KB/s) - ‘collaboration_imdb.net’ saved [3496761/3496761]\n",
      "\n",
      "--2024-03-04 12:34:06--  http://lovro.fri.uni-lj.si/ina/nets/www_google.net\n",
      "Resolving lovro.fri.uni-lj.si (lovro.fri.uni-lj.si)... 2606:50c0:8003::153, 2606:50c0:8001::153, 2606:50c0:8002::153, ...\n",
      "Connecting to lovro.fri.uni-lj.si (lovro.fri.uni-lj.si)|2606:50c0:8003::153|:80... connected.\n",
      "HTTP request sent, awaiting response... 301 Moved Permanently\n",
      "Location: https://lovro.fri.uni-lj.si/ina/nets/www_google.net [following]\n",
      "--2024-03-04 12:34:06--  https://lovro.fri.uni-lj.si/ina/nets/www_google.net\n",
      "Connecting to lovro.fri.uni-lj.si (lovro.fri.uni-lj.si)|2606:50c0:8003::153|:443... connected.\n",
      "HTTP request sent, awaiting response... 200 OK\n",
      "Length: 81342848 (78M) [application/octet-stream]\n",
      "Saving to: ‘www_google.net’\n",
      "\n",
      "www_google.net      100%[===================>]  77.57M   975KB/s    in 1m 58s  \n",
      "\n",
      "2024-03-04 12:36:12 (671 KB/s) - ‘www_google.net’ saved [81342848/81342848]\n",
      "\n"
     ]
    }
   ],
   "source": [
    "# your code here\n",
    "!wget http://lovro.fri.uni-lj.si/ina/nets/toy.net\n",
    "!wget http://lovro.fri.uni-lj.si/ina/nets/karate_club.net\n",
    "!wget http://lovro.fri.uni-lj.si/ina/nets/collaboration_imdb.net\n",
    "!wget http://lovro.fri.uni-lj.si/ina/nets/www_google.net"
   ]
  },
  {
   "cell_type": "code",
   "execution_count": 25,
   "id": "1c50a54c",
   "metadata": {},
   "outputs": [
    {
     "name": "stdout",
     "output_type": "stream",
     "text": [
      "34 78\n",
      "5 4\n",
      "875713 5105039\n",
      "17577 287074\n"
     ]
    }
   ],
   "source": [
    "networks = [\n",
    "  \"karate_club.net\",\n",
    "  \"toy.net\",\n",
    "  \"www_google.net\",\n",
    "  \"collaboration_imdb.net\",\n",
    "]\n",
    "\n",
    "\n",
    "def create_graph(name):\n",
    "  with open(name, \"r\") as f:\n",
    "    n = int(f.readline().split(\" \")[1])\n",
    "    G = [[] for i in range(n)]\n",
    "\n",
    "    # skip to what we need\n",
    "    for line in f:\n",
    "      if line[0] == \"*\":\n",
    "        break\n",
    "\n",
    "    # read edges\n",
    "    m = 0\n",
    "    for line in f:\n",
    "      i,j = line.split(\" \")\n",
    "      i = int(i) - 1\n",
    "      j = int(j) - 1\n",
    "\n",
    "      G[i].append(j)\n",
    "      G[j].append(i)\n",
    "      m += 1\n",
    "    return(G, n, m)\n",
    "  \n",
    "\n",
    "\n",
    "networks_dict = {}\n",
    "for net in networks:\n",
    "  G, m, n = create_graph(net)\n",
    "  print(m,n)\n",
    "  networks_dict[net] = G"
   ]
  },
  {
   "cell_type": "markdown",
   "id": "7e5c50c5",
   "metadata": {},
   "source": [
    "2. **(discuss)** Now, assume that all networks are directed. How would you extend your network representation?\n",
    "\n"
   ]
  },
  {
   "cell_type": "code",
   "execution_count": 22,
   "id": "a635c308",
   "metadata": {},
   "outputs": [],
   "source": [
    "def create_graph_directed(name):\n",
    "  with open(name, \"r\") as f:\n",
    "    n = int(f.readline().split(\" \")[1])\n",
    "    G = [([],[]) for i in range(n)] # predecesors, successors\n",
    "\n",
    "    # skip to what we need\n",
    "    for line in f:\n",
    "      if line[0] == \"*\":\n",
    "        break\n",
    "\n",
    "    # read edges\n",
    "    m = 0\n",
    "    for line in f:\n",
    "      i,j = line.split(\" \")\n",
    "      i = int(i) - 1\n",
    "      j = int(j) - 1\n",
    "\n",
    "      G[i][0].append(j)\n",
    "      G[j][1].append(i)\n",
    "      m += 1\n",
    "    return(G, n, m)\n",
    "  \n"
   ]
  },
  {
   "cell_type": "markdown",
   "id": "b079f58d",
   "metadata": {},
   "source": [
    "3. **(discuss)** Does your network representation allow for multiple links between the nodes, loops on nodes and isolated nodes?\n",
    "   - yes, multiple links are just many instances in the array\n",
    "   - yes loops are just links `G[i].append(i), G[i].append(i)`"
   ]
  }
 ],
 "metadata": {
  "kernelspec": {
   "display_name": "Python 3 (ipykernel)",
   "language": "python",
   "name": "python3"
  },
  "language_info": {
   "codemirror_mode": {
    "name": "ipython",
    "version": 3
   },
   "file_extension": ".py",
   "mimetype": "text/x-python",
   "name": "python",
   "nbconvert_exporter": "python",
   "pygments_lexer": "ipython3",
   "version": "3.11.8"
  }
 },
 "nbformat": 4,
 "nbformat_minor": 5
}
