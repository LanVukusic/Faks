{
 "cells": [
  {
   "cell_type": "markdown",
   "id": "eb77dfab",
   "metadata": {},
   "source": [
    "###### Introduction to Network Analysis 2023/24 (ii)\n",
    "\n",
    "## Network representations, basic network algorithms\n",
    "\n",
    "You are given four networks in Pajek format that was presented in lectures.\n",
    "\n",
    "+ Tiny toy network for testing ([toy.net](http://lovro.fri.uni-lj.si/ina/nets/toy.net))\n",
    "+ Zachary karate club network ([karate_club.net](http://lovro.fri.uni-lj.si/ina/nets/karate_club.net))\n",
    "+ iMDB actors collaboration network ([collaboration_imdb.net](http://lovro.fri.uni-lj.si/ina/nets/collaboration_imdb.net))\n",
    "+ A small part of Google web graph ([www_google.net](http://lovro.fri.uni-lj.si/ina/nets/www_google.net))"
   ]
  },
  {
   "cell_type": "code",
   "execution_count": 3,
   "id": "d364afa7",
   "metadata": {},
   "outputs": [],
   "source": [
    "networks = [\n",
    "  \"karate_club.net\",\n",
    "  \"toy.net\",\n",
    "  \"www_google.net\",\n",
    "  \"collaboration_imdb.net\",\n",
    "]\n",
    "\n",
    "\n",
    "def create_graph(name):\n",
    "  with open(name, \"r\") as f:\n",
    "    n = int(f.readline().split(\" \")[1])\n",
    "    G = [[] for i in range(n)]\n",
    "\n",
    "    # skip to what we need\n",
    "    for line in f:\n",
    "      if line[0] == \"*\":\n",
    "        break\n",
    "\n",
    "    # read edges\n",
    "    m = 0\n",
    "    for line in f:\n",
    "      i,j = line.split(\" \")\n",
    "      i = int(i) - 1\n",
    "      j = int(j) - 1\n",
    "\n",
    "      G[i].append(j)\n",
    "      G[j].append(i)\n",
    "      m += 1\n",
    "    return(G, n, m)\n",
    "  \n",
    "\n",
    "\n",
    "networks_dict = {}\n",
    "for net in networks:\n",
    "  G, m, n = create_graph(net)\n",
    "  networks_dict[net] = (G,n,m)"
   ]
  },
  {
   "cell_type": "markdown",
   "id": "622cd422",
   "metadata": {},
   "source": [
    "### II. Basic network statistics\n",
    "\n"
   ]
  },
  {
   "cell_type": "markdown",
   "id": "96cbb395",
   "metadata": {},
   "source": [
    "1. **(code)** Compute basic statistics of all four networks. Namely, the number of nodes $n$ and links $m$, the average node degree $\\langle k\\rangle=2m/n$ and the undirected density $\\rho=m/{n\\choose 2}$. Are the results expected?\n",
    "\n"
   ]
  },
  {
   "cell_type": "code",
   "execution_count": 5,
   "id": "1c38999e",
   "metadata": {},
   "outputs": [
    {
     "name": "stdout",
     "output_type": "stream",
     "text": [
      "karate_club.net\n",
      "34 78\n",
      "density  0.011322011322011322\n",
      "acgdeg  0.8717948717948718\n",
      "\n",
      "toy.net\n",
      "5 4\n",
      "density  0.8333333333333334\n",
      "acgdeg  2.5\n",
      "\n",
      "www_google.net\n",
      "875713 5105039\n",
      "density  6.720378738363669e-08\n",
      "acgdeg  0.34307788833738584\n",
      "\n",
      "collaboration_imdb.net\n",
      "17577 287074\n",
      "density  4.2656826241978194e-07\n",
      "acgdeg  0.12245623079763406\n",
      "\n"
     ]
    }
   ],
   "source": [
    "\n",
    "\n",
    "# your code here\n",
    "for key,val in networks_dict.items():\n",
    "  name = key\n",
    "  G,n,m = val\n",
    "  avg_deg = 2*m/n\n",
    "  density = 2*m / n /(n-1)\n",
    "  print(name)\n",
    "  print(m,n)\n",
    "  print(\"density \", density)\n",
    "  print(\"acgdeg \", avg_deg)\n",
    "  print()"
   ]
  },
  {
   "cell_type": "markdown",
   "id": "cbebf1b2",
   "metadata": {},
   "source": [
    "2. **(code)** Compute the number of isolated nodes and the number of pendant nodes (i.e. degree-$1$ nodes) (those are `leaves`), and the maximum node degree $k_{\\rm max}$. How do the values of $k_{\\rm max}$ compare to $\\langle k\\rangle$?\n",
    "\n"
   ]
  },
  {
   "cell_type": "code",
   "execution_count": 13,
   "id": "d1753541",
   "metadata": {},
   "outputs": [
    {
     "name": "stdout",
     "output_type": "stream",
     "text": [
      "karate_club.net\n",
      "max deg: 17\n",
      "isolates: 0\n",
      "pendant: 1\n",
      "k_max / k: 0.5\n",
      "\n",
      "toy.net\n",
      "max deg: 3\n",
      "isolates: 1\n",
      "pendant: 1\n",
      "k_max / k: 0.6\n",
      "\n",
      "www_google.net\n",
      "max deg: 6353\n",
      "isolates: 0\n",
      "pendant: 130912\n",
      "k_max / k: 0.007254659917118965\n",
      "\n",
      "collaboration_imdb.net\n",
      "max deg: 784\n",
      "isolates: 0\n",
      "pendant: 475\n",
      "k_max / k: 0.04460374352847471\n",
      "\n"
     ]
    }
   ],
   "source": [
    "# your code here\n",
    "for key,val in networks_dict.items():\n",
    "  name = key\n",
    "  G,n,m = val\n",
    "  max_deg = len(max(G, key=lambda x: len(x))) #\n",
    "  isolated = len([i for i in G if len(i) == 0])\n",
    "  pendant = len([i for i in G if len(i) == 1])\n",
    "  print(name)\n",
    "  print(f\"max deg: {max_deg}\")\n",
    "  print(f\"isolates: {isolated}\")\n",
    "  print(f\"pendant: {pendant}\")\n",
    "  print(f\"k_max / k: {max_deg / m}\")\n",
    "\n",
    "  print()"
   ]
  },
  {
   "cell_type": "markdown",
   "id": "82547063",
   "metadata": {},
   "source": [
    "3. **(discuss)** What is the time complexity of the computations above?"
   ]
  }
 ],
 "metadata": {
  "kernelspec": {
   "display_name": "venv",
   "language": "python",
   "name": "python3"
  },
  "language_info": {
   "codemirror_mode": {
    "name": "ipython",
    "version": 3
   },
   "file_extension": ".py",
   "mimetype": "text/x-python",
   "name": "python",
   "nbconvert_exporter": "python",
   "pygments_lexer": "ipython3",
   "version": "3.11.8"
  }
 },
 "nbformat": 4,
 "nbformat_minor": 5
}
