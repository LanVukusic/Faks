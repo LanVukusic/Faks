{
 "cells": [
  {
   "cell_type": "code",
   "execution_count": 1,
   "metadata": {},
   "outputs": [],
   "source": [
    "import networkx as nx"
   ]
  },
  {
   "cell_type": "code",
   "execution_count": null,
   "metadata": {},
   "outputs": [],
   "source": [
    "from collections import queue\n",
    "\n",
    "\n",
    "def undirected_distance(G:nx.graph, i:int):\n",
    "  D = [-1 for i in range(len(G))]\n",
    "  Q = queue()\n",
    "\n",
    "  Q.append(i)\n",
    "  D[i] = 0\n",
    "  while Q:\n",
    "    i = Q.popleft()\n",
    "    for j in G[i]:\n",
    "      if D[j] == -1:\n",
    "        D[j] = D[i] + 1\n",
    "        Q.append(i)\n",
    "  \n",
    "  return [i for i in D if i > 0]\n"
   ]
  }
 ],
 "metadata": {
  "kernelspec": {
   "display_name": "venv",
   "language": "python",
   "name": "python3"
  },
  "language_info": {
   "codemirror_mode": {
    "name": "ipython",
    "version": 3
   },
   "file_extension": ".py",
   "mimetype": "text/x-python",
   "name": "python",
   "nbconvert_exporter": "python",
   "pygments_lexer": "ipython3",
   "version": "3.11.8"
  }
 },
 "nbformat": 4,
 "nbformat_minor": 2
}
