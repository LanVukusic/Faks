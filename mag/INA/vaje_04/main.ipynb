{
 "cells": [
  {
   "cell_type": "code",
   "execution_count": 11,
   "metadata": {},
   "outputs": [],
   "source": [
    "import networkx as nx\n",
    "from collections import deque\n",
    "import random"
   ]
  },
  {
   "cell_type": "code",
   "execution_count": 18,
   "metadata": {},
   "outputs": [],
   "source": [
    "# compute a good p value\n",
    "def good_p(k:int, G:nx.Graph):\n",
    "  c_net = nx.transitivity(nx.Graph(G))\n",
    "  return 1-((4 * c_net *(k-1))/(3*(k-2)))**(1/3)\n",
    "\n",
    "def watts_strogatz(n:int, k:int, p:float):\n",
    "  G = nx.MultiGraph(name=\"ws\")\n",
    "  \n",
    "  # add n nodes\n",
    "  for i in range(n):\n",
    "    G.add_node(i)\n",
    "  \n",
    "  # create links in regular lattice\n",
    "  for i in range(n):\n",
    "    for j in range(i+1, i+1+k//2):\n",
    "      # j is next nodes\n",
    "      if(random.random() >= p):\n",
    "        G.add_edge(i,j%n) # so that it loops around\n",
    "      else:\n",
    "        # rewire\n",
    "        G.add_edge(i,random.randint(0, n-1)) # so that it loops around\n",
    "\n",
    "  return G\n"
   ]
  },
  {
   "cell_type": "code",
   "execution_count": 19,
   "metadata": {},
   "outputs": [],
   "source": [
    "\n",
    "\n",
    "def distance(G, i):\n",
    "  D = [-1] * len(G) # D = {}\n",
    "  Q = deque()\n",
    "  D[i] = 0\n",
    "  Q.append(i)\n",
    "  while Q:\n",
    "    i = Q.popleft()\n",
    "    for j in G[i]:\n",
    "      if D[j] == -1: # if j not in D:\n",
    "        D[j] = D[i] + 1\n",
    "        Q.append(j)\n",
    "  return [d for d in D if d > 0]\n",
    "\n",
    "def distances(G):\n",
    "  D = []\n",
    "  for i in random.sample(list(G.nodes()), 30):\n",
    "    D.append(distance(G, i))\n",
    "  return D"
   ]
  },
  {
   "cell_type": "code",
   "execution_count": 21,
   "metadata": {},
   "outputs": [
    {
     "name": "stdout",
     "output_type": "stream",
     "text": [
      "     Graph | 'darknet'\n",
      "     Nodes | 7,178 (0, 0)\n",
      "    Degree | 6.99 (0)\n",
      "  Distance | 2.40 (5)\n",
      "avg clustering: 0.7061111034602707\n",
      "     Graph | 'ws'\n",
      "     Nodes | 7,178 (0, 0)\n",
      "    Degree | 6.00 (0)\n",
      "  Distance | 5.23 (7)\n",
      "avg clustering: 0.005429335068510345\n",
      "--------------------------------\n",
      "     Graph | 'collaboration_imdb'\n",
      "     Nodes | 17,577 (0, 0)\n",
      "    Degree | 32.66 (0)\n",
      "  Distance | 4.96 (14)\n",
      "avg clustering: 0.3390564076688012\n",
      "     Graph | 'ws'\n",
      "     Nodes | 17,577 (0, 0)\n",
      "    Degree | 32.00 (0)\n",
      "  Distance | 3.59 (5)\n",
      "avg clustering: 0.3682746466026261\n",
      "--------------------------------\n",
      "     Graph | 'wikileaks'\n",
      "     Nodes | 52,416 (0, 0)\n",
      "    Degree | 3.00 (0)\n",
      "  Distance | 6.42 (17)\n",
      "avg clustering: 0.18641890687848792\n",
      "     Graph | 'ws'\n",
      "     Nodes | 52,416 (0, 0)\n",
      "    Degree | 4.00 (0)\n",
      "  Distance | 9.74 (14)\n",
      "avg clustering: 0.13429696268238586\n",
      "--------------------------------\n",
      "     Graph | 'enron'\n",
      "     Nodes | 87,273 (0, 0)\n",
      "    Degree | 26.31 (0)\n",
      "  Distance | 4.47 (16)\n",
      "avg clustering: 0.1193422206466295\n",
      "     Graph | 'ws'\n",
      "     Nodes | 87,273 (0, 0)\n",
      "    Degree | 26.00 (0)\n",
      "  Distance | 3.90 (5)\n",
      "avg clustering: 0.07194281304515847\n",
      "--------------------------------\n"
     ]
    }
   ],
   "source": [
    "def info(G):\n",
    "  print(\"{:>10s} | '{:s}'\".format('Graph', G.name))\n",
    "\n",
    "  n = G.number_of_nodes()\n",
    "  n0, n1, delta = 0, 0, 0\n",
    "  print(\"{:>10s} | {:,d} ({:,d}, {:,d})\".format('Nodes', n, n0, n1))\n",
    "\n",
    "  m = G.number_of_edges()\n",
    "  print(\"{:>10s} | {:.2f} ({:,d})\".format('Degree', 2 * m / n, delta))\n",
    "\n",
    "  D = distances(G)\n",
    "  D = [i for d in D for i in d]\n",
    "\n",
    "  print(\"{:>10s} | {:.2f} ({:,d})\".format('Distance', sum(D) / len(D), max(D)))\n",
    "\n",
    "  avg_cluster = nx.average_clustering(nx.Graph(G))\n",
    "  print(f\"avg clustering: {avg_cluster}\")\n",
    "\n",
    "# we leave out the \"www_google\", since it is too big without improving the algorithm\n",
    "# for name in [\"karate_club\",\"darknet\",  \"collaboration_imdb\", \"wikileaks\", \"enron\", \"www_google\"]:\n",
    "for name in [\"darknet\",  \"collaboration_imdb\", \"wikileaks\", \"enron\"]:\n",
    "\n",
    "  G = nx.read_pajek(f\"./{name}.net\")\n",
    "  G = nx.convert_node_labels_to_integers(G, label_attribute = 'label')\n",
    "  G.name = name\n",
    "  info(G)\n",
    "\n",
    "  # generate a graph\n",
    "  n = len(G)\n",
    "  m = G.number_of_edges()\n",
    "  k = max(round(m/n)*2, 4) #atleast 4\n",
    "  p = good_p(k, G)\n",
    "  ws_graph = watts_strogatz(n, k, p)\n",
    "  info(ws_graph)\n",
    "  print(\"--------------------------------\")"
   ]
  },
  {
   "cell_type": "code",
   "execution_count": 10,
   "metadata": {},
   "outputs": [
    {
     "name": "stdout",
     "output_type": "stream",
     "text": [
      "     Graph | 'ws'\n",
      "     Nodes | 1,000 (0, 0)\n",
      "    Degree | 10.00 (0)\n",
      "  Distance | 5.19 (9)\n",
      "avg clustering: 0.5761948051948037\n"
     ]
    }
   ],
   "source": [
    "new_G = watts_strogatz(1000, 10, 0.05)\n",
    "info(new_G)"
   ]
  },
  {
   "cell_type": "markdown",
   "metadata": {},
   "source": [
    "## Scale free graphs"
   ]
  },
  {
   "cell_type": "code",
   "execution_count": 22,
   "metadata": {},
   "outputs": [],
   "source": [
    "def price_graph(n:int, c:int, a:float):\n",
    "  G = nx.MultiDiGraph(name=\"price graph\")\n",
    "  G.add_node(0)\n",
    "  Q = [] # as many occurances as in degree\n",
    "  # star graph\n",
    "  for i in range(1,c+1):\n",
    "    G.add_node(i)\n",
    "    G.add_edge(0,i)\n",
    "    Q.append(i)\n",
    "\n",
    "  for i in range(c+1, n):\n",
    "    G.add_node(i)\n",
    "    for _ in range(c):\n",
    "      # create links; select node j\n",
    "      # choose uniform or list sampling\n",
    "      if(random.random() < c/(c+a)):\n",
    "        # sample random element from Q\n",
    "        j = random.choice(Q)\n",
    "      else:\n",
    "        j = random.randint(0, i-1)\n",
    "      \n",
    "      G.add_edge(i,j)\n",
    "      Q.append(j) #update in degrees\n",
    "\n",
    "  return G"
   ]
  },
  {
   "cell_type": "code",
   "execution_count": 24,
   "metadata": {},
   "outputs": [
    {
     "name": "stdout",
     "output_type": "stream",
     "text": [
      "     Graph | 'price graph'\n",
      "     Nodes | 10,000 (0, 0)\n",
      "    Degree | 9.99 (0)\n",
      "  Distance | 4.86 (13)\n",
      "avg clustering: 0.027294911494265432\n"
     ]
    }
   ],
   "source": [
    "pg = price_graph(10000, 5, 3)\n",
    "info(pg)"
   ]
  }
 ],
 "metadata": {
  "kernelspec": {
   "display_name": "venv",
   "language": "python",
   "name": "python3"
  },
  "language_info": {
   "codemirror_mode": {
    "name": "ipython",
    "version": 3
   },
   "file_extension": ".py",
   "mimetype": "text/x-python",
   "name": "python",
   "nbconvert_exporter": "python",
   "pygments_lexer": "ipython3",
   "version": "3.11.8"
  }
 },
 "nbformat": 4,
 "nbformat_minor": 2
}
