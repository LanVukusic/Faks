{
  "cells": [
    {
      "cell_type": "markdown",
      "id": "3c19a73f",
      "metadata": {
        "id": "3c19a73f"
      },
      "source": [
        "###### Introduction to Network Analysis 2023/24 (xii)\n",
        "\n",
        "## Random-walk sampling, network comparison"
      ]
    },
    {
      "cell_type": "code",
      "execution_count": 3,
      "id": "7604d156",
      "metadata": {},
      "outputs": [],
      "source": [
        "import networkx as nx"
      ]
    },
    {
      "cell_type": "markdown",
      "id": "4e7786d9",
      "metadata": {
        "id": "4e7786d9"
      },
      "source": [
        "### I. Estimation by random-walk sampling\n",
        "\n",
        "You are given five networks in Pajek format.\n",
        "\n",
        "+ Java class dependency network ([java.net](http://lovro.fri.uni-lj.si/ina/nets/java.net))\n",
        "+ *nec* overlay map of the Internet ([nec.net](http://lovro.fri.uni-lj.si/ina/nets/nec.net))\n",
        "+ Sample of Facebook social network ([facebook.net](http://lovro.fri.uni-lj.si/ina/nets/facebook.net))\n",
        "+ Enron e-mail communication network ([enron.net](http://lovro.fri.uni-lj.si/ina/nets/enron.net))\n",
        "+ A small part of Google web graph ([www_google.net](http://lovro.fri.uni-lj.si/ina/nets/www_google.net))\n",
        "\n"
      ]
    },
    {
      "cell_type": "code",
      "execution_count": 2,
      "id": "2fcb6c8c",
      "metadata": {},
      "outputs": [],
      "source": [
        "# !wget http://lovro.fri.uni-lj.si/ina/nets/java.net\n",
        "# !wget http://lovro.fri.uni-lj.si/ina/nets/nec.net\n",
        "# !wget http://lovro.fri.uni-lj.si/ina/nets/facebook.net\n",
        "# !wget http://lovro.fri.uni-lj.si/ina/nets/enron.net\n",
        "# !wget http://lovro.fri.uni-lj.si/ina/nets/www_google.net"
      ]
    },
    {
      "cell_type": "markdown",
      "id": "a05effe8",
      "metadata": {
        "id": "a05effe8"
      },
      "source": [
        "1. **(code)** Represent the networks with simple undirected graphs and reduce them to their largest connected component.\n",
        "\n"
      ]
    },
    {
      "cell_type": "code",
      "execution_count": 15,
      "id": "ddaf4b7d",
      "metadata": {
        "id": "ddaf4b7d"
      },
      "outputs": [],
      "source": [
        "# your code here\n",
        "import random\n",
        "import tqdm\n",
        "\n",
        "\n",
        "def get_clean_graph(name):\n",
        "  G = nx.read_pajek(name)\n",
        "  G = nx.MultiGraph(G)\n",
        "  s = max(nx.connected_components(G), key=len)\n",
        "  return G.subgraph(s)\n",
        "\n",
        "\n",
        "def biased_k(G:nx.Graph, percent=15):\n",
        "  nodes = list(G.nodes())\n",
        "  s = int(len(G) * (percent/100))\n",
        "  cs = 0\n",
        "  n = random.choice(nodes)\n",
        "  for i in tqdm.tqdm(range(s)):\n",
        "    cs += G.degree(n)\n",
        "    nodes = list(G.neighbors(n))\n",
        "    n = random.choice(nodes)\n",
        "  \n",
        "  return cs / s\n"
      ]
    },
    {
      "cell_type": "code",
      "execution_count": 17,
      "id": "92747160",
      "metadata": {},
      "outputs": [],
      "source": [
        "G = get_clean_graph(\"www_google.net\")"
      ]
    },
    {
      "cell_type": "code",
      "execution_count": 18,
      "id": "0c274a73",
      "metadata": {},
      "outputs": [
        {
          "name": "stderr",
          "output_type": "stream",
          "text": [
            "100%|██████████| 128370/128370 [01:52<00:00, 1142.95it/s]\n"
          ]
        },
        {
          "data": {
            "text/plain": [
              "178.06267040585806"
            ]
          },
          "execution_count": 18,
          "metadata": {},
          "output_type": "execute_result"
        }
      ],
      "source": [
        "biased_k(G)"
      ]
    },
    {
      "cell_type": "markdown",
      "id": "07b12982",
      "metadata": {
        "id": "07b12982"
      },
      "source": [
        "2. **(code)** Implement a random-walk sampling and apply it to the networks until you sample 15% of the nodes (with repetitions). Let $s$ be the number of sampled nodes and $k_1,\\dots,k_s$ their degree sequence. Estimate the average degree of the network $\\langle k\\rangle$ using a biased average $$\\frac{\\sum_ik_i}{s}$$ and also the corrected estimate $$\\frac{s}{\\sum_ik_i^{-1}}.$$\n",
        "\n"
      ]
    },
    {
      "cell_type": "code",
      "execution_count": null,
      "id": "ddb21102",
      "metadata": {
        "id": "ddb21102"
      },
      "outputs": [],
      "source": [
        "# your code here"
      ]
    },
    {
      "cell_type": "markdown",
      "id": "7ed7f5e3",
      "metadata": {
        "id": "7ed7f5e3"
      },
      "source": [
        "3. **(discuss)** Compare both estimates to the true average degree $\\langle k\\rangle$."
      ]
    }
  ],
  "metadata": {
    "colab": {
      "provenance": []
    },
    "kernelspec": {
      "display_name": "venv",
      "language": "python",
      "name": "python3"
    },
    "language_info": {
      "codemirror_mode": {
        "name": "ipython",
        "version": 3
      },
      "file_extension": ".py",
      "mimetype": "text/x-python",
      "name": "python",
      "nbconvert_exporter": "python",
      "pygments_lexer": "ipython3",
      "version": "3.11.9"
    }
  },
  "nbformat": 4,
  "nbformat_minor": 5
}
