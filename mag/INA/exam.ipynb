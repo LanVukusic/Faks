{
 "cells": [
  {
   "cell_type": "code",
   "execution_count": 1,
   "metadata": {},
   "outputs": [
    {
     "name": "stdout",
     "output_type": "stream",
     "text": [
      "       Graph | 'traffic'\n",
      "       Nodes | 806 (iso=0)\n",
      "       Edges | 6,915 (loop=0)\n",
      "      Degree | 17.16 (max=191)\n",
      "         LCC | 100.0% (n=1)\n",
      "  Clustering | 0.5416\n",
      "\n",
      "  Centrality | 'degree'\n",
      "    0.237267 | 'Denver, CO' (191)\n",
      "    0.237267 | 'Dallas/Fort Worth, TX' (191)\n",
      "    0.232298 | 'Chicago, IL' (187)\n",
      "    0.221118 | 'Atlanta, GA' (178)\n",
      "    0.195031 | 'Memphis, TN' (157)\n",
      "    0.187578 | 'Minneapolis, MN' (151)\n",
      "    0.185093 | 'Charlotte, NC' (149)\n",
      "    0.176398 | 'Las Vegas, NV' (142)\n",
      "    0.173913 | 'Detroit, MI' (140)\n",
      "    0.168944 | 'Los Angeles, CA' (136)\n",
      "    0.166460 | 'Philadelphia, PA' (134)\n",
      "    0.165217 | 'Phoenix, AZ' (133)\n",
      "    0.162733 | 'Houston, TX' (131)\n",
      "    0.157764 | 'Louisville, KY' (127)\n",
      "    0.155280 | 'Nashville, TN' (125)\n",
      "\n",
      "  Centrality | 'clustering'\n",
      "    1.000000 | 'Aguadilla, PR' (8)\n",
      "    1.000000 | 'Charleston/Dunbar, WV' (7)\n",
      "    1.000000 | 'Scranton/Wilkes-Barre, PA' (7)\n",
      "    1.000000 | 'Marana, AZ' (7)\n",
      "    1.000000 | 'Wrangell, AK' (6)\n",
      "    1.000000 | 'Petersburg, AK' (6)\n",
      "    1.000000 | 'St. George, UT' (6)\n",
      "    1.000000 | 'Hilo, HI' (5)\n",
      "    1.000000 | 'Monroe, LA' (5)\n",
      "    1.000000 | 'Latrobe, PA' (5)\n",
      "    1.000000 | 'Worcester, MA' (5)\n",
      "    1.000000 | 'Anvik, AK' (5)\n",
      "    1.000000 | 'Williston, ND' (5)\n",
      "    1.000000 | 'Flagstaff, AZ' (4)\n",
      "    1.000000 | 'New Haven, CT' (4)\n",
      "\n",
      "  Centrality | '~μ-clustering'\n",
      "   57.820225 | 'Kansas City, MO' (89)\n",
      "   57.204545 | 'Houston, TX' (88)\n",
      "   56.516129 | 'San Antonio, TX' (93)\n",
      "   55.777778 | 'Tampa, FL' (99)\n",
      "   55.696970 | 'New Orleans, LA' (99)\n",
      "   55.224490 | 'Austin, TX' (98)\n",
      "   54.220183 | 'Washington, DC' (109)\n",
      "   53.634146 | 'Hartford, CT' (82)\n",
      "   53.454545 | 'Dallas, TX' (99)\n",
      "   53.075630 | 'Orlando, FL' (119)\n",
      "   52.853933 | 'Columbus, OH' (89)\n",
      "   52.753247 | 'Albuquerque, NM' (77)\n",
      "   52.510638 | 'San Diego, CA' (94)\n",
      "   52.282609 | 'Sacramento, CA' (92)\n",
      "   51.981481 | 'Indianapolis, IN' (108)\n",
      "\n"
     ]
    },
    {
     "data": {
      "text/plain": [
       "['MO Kansas City',\n",
       " 'TX Houston',\n",
       " 'TX San Antonio',\n",
       " 'FL Tampa',\n",
       " 'LA New Orleans',\n",
       " 'TX Austin',\n",
       " 'DC Washington',\n",
       " 'CT Hartford',\n",
       " 'TX Dallas',\n",
       " 'FL Orlando',\n",
       " 'OH Columbus',\n",
       " 'NM Albuquerque',\n",
       " 'CA San Diego',\n",
       " 'CA Sacramento',\n",
       " 'IN Indianapolis']"
      ]
     },
     "execution_count": 1,
     "metadata": {},
     "output_type": "execute_result"
    }
   ],
   "source": [
    "import networkx as nx\n",
    "import utils\n",
    "\n",
    "name = \"traffic\"\n",
    "G = nx.Graph(utils.read_pajek(name, \".\"))\n",
    "# conver node labels to integers\n",
    "# print(G.nodes(data=True))\n",
    "# utils.info(G)\n",
    "G = nx.convert_node_labels_to_integers(G, label_attribute=None)\n",
    "# print first few labels\n",
    "# print(G.nodes(data=True))\n",
    "utils.info(G)\n",
    "\n",
    "top_degree = utils.top_nodes(G, nx.degree_centrality(G), 'degree')\n",
    "utils.actor_names(top_degree)\n",
    "\n",
    "top_clustering = utils.top_nodes(G, nx.clustering(G), 'clustering')\n",
    "utils.actor_names(top_clustering)\n",
    "\n",
    "# here we use μ = 1 for simplicity (only interested in ranking)\n",
    "top_mu_clustering = utils.top_nodes(\n",
    "    G, {i: c * (G.degree(i) - 1) for i, c in nx.clustering(G).items()}, '~μ-clustering')\n",
    "\n",
    "utils.actor_names(top_mu_clustering)"
   ]
  },
  {
   "cell_type": "code",
   "execution_count": 2,
   "metadata": {},
   "outputs": [
    {
     "name": "stdout",
     "output_type": "stream",
     "text": [
      "  Centrality | 'eigenvector'\n",
      "    8.773404 | 'Atlanta, GA' (178)\n",
      "    8.564361 | 'Denver, CO' (191)\n",
      "    8.481163 | 'Memphis, TN' (157)\n",
      "    8.373763 | 'Dallas/Fort Worth, TX' (191)\n",
      "    8.351498 | 'Chicago, IL' (187)\n",
      "    8.021649 | 'Las Vegas, NV' (142)\n",
      "    7.992497 | 'Detroit, MI' (140)\n",
      "    7.938953 | 'Minneapolis, MN' (151)\n",
      "    7.883468 | 'Philadelphia, PA' (134)\n",
      "    7.769672 | 'Phoenix, AZ' (133)\n",
      "    7.754959 | 'Orlando, FL' (119)\n",
      "    7.735824 | 'Los Angeles, CA' (136)\n",
      "    7.733344 | 'Nashville, TN' (125)\n",
      "    7.651136 | 'Charlotte, NC' (149)\n",
      "    7.620776 | 'Baltimore, MD' (119)\n",
      "\n"
     ]
    },
    {
     "data": {
      "text/plain": [
       "['GA Atlanta',\n",
       " 'CO Denver',\n",
       " 'TN Memphis',\n",
       " 'TX Dallas/Fort Worth',\n",
       " 'IL Chicago',\n",
       " 'NV Las Vegas',\n",
       " 'MI Detroit',\n",
       " 'MN Minneapolis',\n",
       " 'PA Philadelphia',\n",
       " 'AZ Phoenix',\n",
       " 'FL Orlando',\n",
       " 'CA Los Angeles',\n",
       " 'TN Nashville',\n",
       " 'NC Charlotte',\n",
       " 'MD Baltimore']"
      ]
     },
     "execution_count": 2,
     "metadata": {},
     "output_type": "execute_result"
    }
   ],
   "source": [
    "# Function to calculate the eigenvector centrality of nodes in the graph 'G'\n",
    "def eigenvector_centrality(G, eps = 1e-6):\n",
    "    # Initialize eigenvector centrality score\n",
    "    E = [1] * G.number_of_nodes()\n",
    "    diff = 1\n",
    "    # Repeat until the change in scores is less than a small value 'eps'\n",
    "    while diff > eps:\n",
    "        # Update scores based on neighbors' scores\n",
    "        U = [sum([E[j] for j in G[i]]) for i in G.nodes()]\n",
    "        # Normalize scores\n",
    "        u = sum(U)\n",
    "        U = [U[i] * len(G) / u for i in G.nodes()]\n",
    "        # Calculate change in scores\n",
    "        diff = sum([abs(E[i] - U[i]) for i in G.nodes()])\n",
    "        # Use the new scores for the next iteration\n",
    "        E = U\n",
    "    return {i: E[i] for i in range(len(E))}\n",
    "\n",
    "\n",
    "utils.actor_names(utils.top_nodes(G, eigenvector_centrality(G), 'eigenvector'))"
   ]
  },
  {
   "cell_type": "code",
   "execution_count": 3,
   "metadata": {},
   "outputs": [
    {
     "name": "stdout",
     "output_type": "stream",
     "text": [
      "  Centrality | 'pagerank'\n",
      "    0.013916 | 'Anchorage, AK' (122)\n",
      "    0.012650 | 'Denver, CO' (191)\n",
      "    0.011633 | 'Dallas/Fort Worth, TX' (191)\n",
      "    0.011147 | 'Chicago, IL' (187)\n",
      "    0.009667 | 'Fairbanks, AK' (58)\n",
      "    0.009616 | 'Atlanta, GA' (178)\n",
      "    0.008301 | 'Minneapolis, MN' (151)\n",
      "    0.008078 | 'Memphis, TN' (157)\n",
      "    0.007856 | 'Charlotte, NC' (149)\n",
      "    0.007301 | 'Detroit, MI' (140)\n",
      "    0.007257 | 'Phoenix, AZ' (133)\n",
      "    0.007257 | 'Las Vegas, NV' (142)\n",
      "    0.007212 | 'Los Angeles, CA' (136)\n",
      "    0.007046 | 'Seattle, WA' (117)\n",
      "    0.006671 | 'Houston, TX' (131)\n",
      "\n"
     ]
    },
    {
     "data": {
      "text/plain": [
       "['AK Anchorage',\n",
       " 'CO Denver',\n",
       " 'TX Dallas/Fort Worth',\n",
       " 'IL Chicago',\n",
       " 'AK Fairbanks',\n",
       " 'GA Atlanta',\n",
       " 'MN Minneapolis',\n",
       " 'TN Memphis',\n",
       " 'NC Charlotte',\n",
       " 'MI Detroit',\n",
       " 'AZ Phoenix',\n",
       " 'NV Las Vegas',\n",
       " 'CA Los Angeles',\n",
       " 'WA Seattle',\n",
       " 'TX Houston']"
      ]
     },
     "execution_count": 3,
     "metadata": {},
     "output_type": "execute_result"
    }
   ],
   "source": [
    "# Function to calculate the PageRank of nodes in the graph 'G'\n",
    "def pagerank(G, alpha = 0.85, eps = 1e-6):\n",
    "    P = [1 / len(G)] * len(G)\n",
    "    diff = 1\n",
    "    # Repeat until the change in scores is less than a small value 'eps'\n",
    "    while diff > eps:\n",
    "        # Update scores based on neighbors' scores and the number of their out-links\n",
    "        U = [sum([P[j] * alpha / G.degree(j) for j in G[i]]) for i in G.nodes()]\n",
    "        # Calculate a damping factor based on the 'alpha' parameter\n",
    "        u = sum(U)\n",
    "        # Apply the damping factor and ensure that the scores sum up to 1\n",
    "        U = [U[i] + (1 - u) / len(G) for i in G.nodes()]\n",
    "        # Calculate change in scores\n",
    "        diff = sum([abs(P[i] - U[i]) for i in G.nodes()])\n",
    "        P = U\n",
    "    return {i: P[i] for i in range(len(P))}\n",
    "\n",
    "\n",
    "utils.actor_names(utils.top_nodes(G, pagerank(G), 'pagerank'))"
   ]
  },
  {
   "cell_type": "code",
   "execution_count": 4,
   "metadata": {},
   "outputs": [
    {
     "name": "stdout",
     "output_type": "stream",
     "text": [
      "  Centrality | 'closeness'\n",
      "    0.497528 | 'Denver, CO' (191)\n",
      "    0.495385 | 'Dallas/Fort Worth, TX' (191)\n",
      "    0.494168 | 'Chicago, IL' (187)\n",
      "    0.492958 | 'Atlanta, GA' (178)\n",
      "    0.486699 | 'Memphis, TN' (157)\n",
      "    0.484356 | 'Anchorage, AK' (122)\n",
      "    0.484356 | 'Seattle, WA' (117)\n",
      "    0.484065 | 'Minneapolis, MN' (151)\n",
      "    0.481172 | 'Phoenix, AZ' (133)\n",
      "    0.480024 | 'Louisville, KY' (127)\n",
      "    0.479738 | 'Los Angeles, CA' (136)\n",
      "    0.474926 | 'Oakland, CA' (110)\n",
      "    0.474087 | 'Nashville, TN' (125)\n",
      "    0.469662 | 'Portland, OR' (99)\n",
      "    0.468841 | 'Indianapolis, IN' (108)\n",
      "\n"
     ]
    },
    {
     "data": {
      "text/plain": [
       "['CO Denver',\n",
       " 'TX Dallas/Fort Worth',\n",
       " 'IL Chicago',\n",
       " 'GA Atlanta',\n",
       " 'TN Memphis',\n",
       " 'AK Anchorage',\n",
       " 'WA Seattle',\n",
       " 'MN Minneapolis',\n",
       " 'AZ Phoenix',\n",
       " 'KY Louisville',\n",
       " 'CA Los Angeles',\n",
       " 'CA Oakland',\n",
       " 'TN Nashville',\n",
       " 'OR Portland',\n",
       " 'IN Indianapolis']"
      ]
     },
     "execution_count": 4,
     "metadata": {},
     "output_type": "execute_result"
    }
   ],
   "source": [
    "utils.actor_names(utils.top_nodes(G, nx.closeness_centrality(G), 'closeness'))"
   ]
  },
  {
   "cell_type": "code",
   "execution_count": 5,
   "metadata": {},
   "outputs": [
    {
     "name": "stdout",
     "output_type": "stream",
     "text": [
      "  Centrality | 'betweenness'\n",
      "    0.340842 | 'Anchorage, AK' (122)\n",
      "    0.086192 | 'Denver, CO' (191)\n",
      "    0.074392 | 'Dallas/Fort Worth, TX' (191)\n",
      "    0.074374 | 'Fairbanks, AK' (58)\n",
      "    0.068377 | 'Seattle, WA' (117)\n",
      "    0.065093 | 'Chicago, IL' (187)\n",
      "    0.048227 | 'Atlanta, GA' (178)\n",
      "    0.045465 | 'Detroit, MI' (140)\n",
      "    0.045337 | 'Minneapolis, MN' (151)\n",
      "    0.037660 | 'Oakland, CA' (110)\n",
      "    0.033335 | 'Bethel, AK' (53)\n",
      "    0.032831 | 'Phoenix, AZ' (133)\n",
      "    0.031203 | 'Memphis, TN' (157)\n",
      "    0.028364 | 'Los Angeles, CA' (136)\n",
      "    0.027939 | 'Boston, MA' (103)\n",
      "\n"
     ]
    },
    {
     "data": {
      "text/plain": [
       "['AK Anchorage',\n",
       " 'CO Denver',\n",
       " 'TX Dallas/Fort Worth',\n",
       " 'AK Fairbanks',\n",
       " 'WA Seattle',\n",
       " 'IL Chicago',\n",
       " 'GA Atlanta',\n",
       " 'MI Detroit',\n",
       " 'MN Minneapolis',\n",
       " 'CA Oakland',\n",
       " 'AK Bethel',\n",
       " 'AZ Phoenix',\n",
       " 'TN Memphis',\n",
       " 'CA Los Angeles',\n",
       " 'MA Boston']"
      ]
     },
     "execution_count": 5,
     "metadata": {},
     "output_type": "execute_result"
    }
   ],
   "source": [
    "utils.actor_names(utils.top_nodes(G, nx.betweenness_centrality(G), 'betweenness'))"
   ]
  },
  {
   "cell_type": "code",
   "execution_count": 23,
   "metadata": {},
   "outputs": [
    {
     "name": "stdout",
     "output_type": "stream",
     "text": [
      "  Centrality | 'closeness'\n",
      "    0.497528 | 'Denver, CO' (191)\n",
      "    0.495385 | 'Dallas/Fort Worth, TX' (191)\n",
      "    0.494168 | 'Chicago, IL' (187)\n",
      "    0.492958 | 'Atlanta, GA' (178)\n",
      "    0.486699 | 'Memphis, TN' (157)\n",
      "    0.484356 | 'Anchorage, AK' (122)\n",
      "    0.484356 | 'Seattle, WA' (117)\n",
      "    0.484065 | 'Minneapolis, MN' (151)\n",
      "    0.481172 | 'Phoenix, AZ' (133)\n",
      "    0.480024 | 'Louisville, KY' (127)\n",
      "    0.479738 | 'Los Angeles, CA' (136)\n",
      "    0.474926 | 'Oakland, CA' (110)\n",
      "    0.474087 | 'Nashville, TN' (125)\n",
      "    0.469662 | 'Portland, OR' (99)\n",
      "    0.468841 | 'Indianapolis, IN' (108)\n",
      "\n",
      "  Centrality | 'closeness'\n",
      "    0.487003 | 'Dallas/Fort Worth, TX' (190)\n",
      "    0.484884 | 'Chicago, IL' (186)\n",
      "    0.483382 | 'Atlanta, GA' (177)\n",
      "    0.478637 | 'Memphis, TN' (156)\n",
      "    0.475719 | 'Minneapolis, MN' (150)\n",
      "    0.475429 | 'Seattle, WA' (116)\n",
      "    0.473123 | 'Anchorage, AK' (121)\n",
      "    0.471692 | 'Phoenix, AZ' (132)\n",
      "    0.471407 | 'Louisville, KY' (126)\n",
      "    0.469704 | 'Los Angeles, CA' (135)\n",
      "    0.465223 | 'Oakland, CA' (109)\n",
      "    0.464116 | 'Nashville, TN' (124)\n",
      "    0.460554 | 'Portland, OR' (98)\n",
      "    0.459740 | 'Indianapolis, IN' (107)\n",
      "    0.458120 | 'Newark, NJ' (111)\n",
      "\n",
      "  Centrality | 'closeness'\n",
      "    0.480550 | 'Chicago, IL' (185)\n",
      "    0.479352 | 'Atlanta, GA' (176)\n",
      "    0.474621 | 'Memphis, TN' (155)\n",
      "    0.471711 | 'Minneapolis, MN' (149)\n",
      "    0.471422 | 'Seattle, WA' (115)\n",
      "    0.467696 | 'Phoenix, AZ' (131)\n",
      "    0.467412 | 'Louisville, KY' (125)\n",
      "    0.465714 | 'Los Angeles, CA' (134)\n",
      "    0.464589 | 'Anchorage, AK' (120)\n",
      "    0.461247 | 'Oakland, CA' (108)\n",
      "    0.460143 | 'Nashville, TN' (123)\n",
      "    0.456593 | 'Portland, OR' (97)\n",
      "    0.455243 | 'Indianapolis, IN' (106)\n",
      "    0.453365 | 'Newark, NJ' (110)\n",
      "    0.452831 | 'Detroit, MI' (138)\n",
      "\n",
      "  Centrality | 'closeness'\n",
      "    0.473446 | 'Atlanta, GA' (175)\n",
      "    0.469314 | 'Memphis, TN' (154)\n",
      "    0.466406 | 'Minneapolis, MN' (148)\n",
      "    0.466117 | 'Seattle, WA' (114)\n",
      "    0.462111 | 'Louisville, KY' (124)\n",
      "    0.461828 | 'Phoenix, AZ' (130)\n",
      "    0.459853 | 'Los Angeles, CA' (133)\n",
      "    0.455127 | 'Anchorage, AK' (119)\n",
      "    0.454852 | 'Oakland, CA' (107)\n",
      "    0.454577 | 'Nashville, TN' (122)\n",
      "    0.450766 | 'Portland, OR' (96)\n",
      "    0.449958 | 'Indianapolis, IN' (105)\n",
      "    0.447550 | 'Detroit, MI' (137)\n",
      "    0.447550 | 'Newark, NJ' (109)\n",
      "    0.445168 | 'Washington, DC' (104)\n",
      "\n",
      "  Centrality | 'closeness'\n",
      "    0.466489 | 'Memphis, TN' (153)\n",
      "    0.463583 | 'Minneapolis, MN' (147)\n",
      "    0.463294 | 'Seattle, WA' (113)\n",
      "    0.459290 | 'Louisville, KY' (123)\n",
      "    0.459007 | 'Phoenix, AZ' (129)\n",
      "    0.457033 | 'Los Angeles, CA' (132)\n",
      "    0.452035 | 'Oakland, CA' (106)\n",
      "    0.451761 | 'Nashville, TN' (121)\n",
      "    0.448493 | 'Anchorage, AK' (118)\n",
      "    0.447953 | 'Portland, OR' (95)\n",
      "    0.447145 | 'Indianapolis, IN' (104)\n",
      "    0.444740 | 'Detroit, MI' (136)\n",
      "    0.444740 | 'Newark, NJ' (108)\n",
      "    0.442360 | 'Washington, DC' (103)\n",
      "    0.442097 | 'Cincinnati, OH' (96)\n",
      "\n"
     ]
    }
   ],
   "source": [
    "G = utils.read_pajek(\"traffic\", \".\")\n",
    "\n",
    "tops = []\n",
    "\n",
    "for i in range(5):\n",
    "    top = utils.top_nodes(G, nx.closeness_centrality(G), \"closeness\")[0]\n",
    "    node_id = utils.find_node(G, top[\"label\"])\n",
    "    G.remove_node(node_id)\n",
    "    tops.append(top)"
   ]
  },
  {
   "cell_type": "code",
   "execution_count": 25,
   "metadata": {},
   "outputs": [
    {
     "data": {
      "text/plain": [
       "['Denver, CO',\n",
       " 'Dallas/Fort Worth, TX',\n",
       " 'Chicago, IL',\n",
       " 'Atlanta, GA',\n",
       " 'Memphis, TN']"
      ]
     },
     "execution_count": 25,
     "metadata": {},
     "output_type": "execute_result"
    }
   ],
   "source": [
    "[i[\"label\"] for i in tops]"
   ]
  },
  {
   "cell_type": "code",
   "execution_count": null,
   "metadata": {},
   "outputs": [],
   "source": [
    "\n",
    "btwns = {(i,j): c for (i,j,_), c in nx.closeness_centrality(hw).items()}\n",
    "utils.top_edges(hw, btwns, \"closeness\")\n",
    "print()\n"
   ]
  },
  {
   "cell_type": "code",
   "execution_count": 8,
   "metadata": {},
   "outputs": [
    {
     "name": "stdout",
     "output_type": "stream",
     "text": [
      "  Centrality | 'pagerank'\n",
      "    0.162802 | 'Detroit, MI' (140)\n",
      "    0.013775 | 'Chicago, IL' (187)\n",
      "    0.011429 | 'Atlanta, GA' (178)\n",
      "    0.011391 | 'Dallas/Fort Worth, TX' (191)\n",
      "    0.011216 | 'Denver, CO' (191)\n",
      "    0.010876 | 'Minneapolis, MN' (151)\n",
      "    0.010059 | 'Memphis, TN' (157)\n",
      "    0.009948 | 'Charlotte, NC' (149)\n",
      "    0.009357 | 'Philadelphia, PA' (134)\n",
      "    0.009003 | 'Las Vegas, NV' (142)\n",
      "    0.008397 | 'Phoenix, AZ' (133)\n",
      "    0.008333 | 'Los Angeles, CA' (136)\n",
      "    0.008231 | 'Houston, TX' (131)\n",
      "    0.008189 | 'Louisville, KY' (127)\n",
      "    0.008133 | 'Nashville, TN' (125)\n",
      "\n"
     ]
    }
   ],
   "source": [
    "# CUSTOM PAGERANK\n",
    "\n",
    "def similar_movies(title: str):\n",
    "    tp = {utils.find_node(G, title)}\n",
    "    pr = utils.pagerank(G, teleport=tp) # every restart will begin at the target movie (eg. Moana)\n",
    "    utils.top_nodes(G, pr, 'pagerank')\n",
    "    return pr\n",
    "\n",
    "pr_res = similar_movies(\"Detroit, MI\")"
   ]
  },
  {
   "cell_type": "markdown",
   "metadata": {},
   "source": [
    "Rešitev zadnje naloge na 2. roku 2023 (koda):\n",
    "Vprašanja na kratko:\n",
    "V grafu so povezana fizična mesta (povezava med mesti predstavlja cesto/avtocesto). Imaš 15 vojaških letal in vsak lahko uniči/zdemulira 1 mesto. Katera mesta naj uničijo, da bo največji \"connected component\" velikosti manj kot 50%? (odgovor: Brest, Warsaw, Saint Petersburg, Kiev, Niš, Gdańsk, Mukachevo, Chişinău, Trieste, Vinnytsia, Budapest, Zagreb, Oradea, Kherson, Suceava)\n",
    "Kakšno metodo uporabiti? (odgovor: betweenness_centrality)\n",
    "Kako velik je delež največjega \"connected component\"-a? (odgovor: 43.164%)\n"
   ]
  },
  {
   "cell_type": "code",
   "execution_count": 11,
   "metadata": {},
   "outputs": [
    {
     "name": "stdout",
     "output_type": "stream",
     "text": [
      "Anchorage, AK\n",
      "Fairbanks, AK\n",
      "Minneapolis, MN\n",
      "Bethel, AK\n",
      "Seattle, WA\n",
      "Denver, CO\n",
      "Dallas/Fort Worth, TX\n",
      "Chicago, IL\n",
      "Atlanta, GA\n",
      "Charlotte, NC\n",
      "Memphis, TN\n",
      "Detroit, MI\n",
      "Las Vegas, NV\n",
      "Bullhead City, AZ\n",
      "Phoenix, AZ\n",
      "0.672566371681416\n"
     ]
    }
   ],
   "source": [
    "g = G.copy()\n",
    "for i in range(15):\n",
    "    node, value = sorted(list(nx.betweenness_centrality(g).items()),key=lambda x: x[1],reverse=True)[0]\n",
    "    print(g.nodes[node][\"label\"])\n",
    "    g.remove_node(node)\n",
    "print([len(x) for x in list(nx.connected_components(g))][0]/len(g))\n"
   ]
  }
 ],
 "metadata": {
  "kernelspec": {
   "display_name": "INA",
   "language": "python",
   "name": "python3"
  },
  "language_info": {
   "codemirror_mode": {
    "name": "ipython",
    "version": 3
   },
   "file_extension": ".py",
   "mimetype": "text/x-python",
   "name": "python",
   "nbconvert_exporter": "python",
   "pygments_lexer": "ipython3",
   "version": "3.12.3"
  }
 },
 "nbformat": 4,
 "nbformat_minor": 2
}
