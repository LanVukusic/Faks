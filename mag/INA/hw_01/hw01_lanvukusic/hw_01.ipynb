{
 "cells": [
  {
   "cell_type": "markdown",
   "metadata": {},
   "source": [
    "# Homework 01"
   ]
  },
  {
   "cell_type": "markdown",
   "metadata": {},
   "source": [
    "## 01 Connected components \n",
    "\n",
    "$$\n",
    "n-c \\leq m\n",
    "$$\n",
    "\n",
    "We can prove that, by looking at increasing numbers of nodes, startig by 0.  \n",
    "- If we have 1 node, $1-1 == 0$, which holds.\n",
    "- $c = 1$ gives us 2 nodes with one connection between them, giving us a chain. $2-1 = 1$\n",
    "- Higher numbers of $c$ give us $n-c$ eges minimum, so the equality holds for arbitrary number c.\n",
    "\n",
    "$$\n",
    "m \\leq \\binom{n-c+1}{2}\n",
    "$$"
   ]
  },
  {
   "cell_type": "markdown",
   "metadata": {},
   "source": [
    "## 03 Random node selection\n",
    "\n",
    "### Instructions\n",
    "Erdos-Renyi graph model requires efficient implementation of a random selection of\n",
    "nodes, which can be easily achieved with most network representations. More realistic models require more sophisticated random selection procedures and associated network representations.\n",
    "Design an algorithm that does not select the nodes uniformly at random, but proportional\n",
    "to their degree.  \n",
    "More precisely, the node i should be selected with the probability $\\frac{k_i}{2m}$, where $k_i$ is its degree and $m$ is the number of edges. The algorithm must run in constant time O(1),\n",
    "while you can assume any standard network representation. (Think more about the network\n",
    "representation than the algorithm.)\n"
   ]
  },
  {
   "cell_type": "markdown",
   "metadata": {},
   "source": [
    "\n",
    "### Implementation\n",
    "The base idea is to sample random endges, which will give us selection probability proportional to the node degree.  \n",
    "If we represent the graph in the edge-list format, we can use the internal  representation of the graph as an efficiet data structure for our alogorithm.  \n",
    "For easier unerstaing I wrote the pseudocode (python):  \n",
    "```py\n",
    "def get_random_node(G:graph):\n",
    "  # generate index - O(1)\n",
    "  random_index = random.randint(0, len(graph.edges))\n",
    "  # get the edge\n",
    "  rand_edge = G.edges[random_index]\n",
    "  # this gives us probability for selecting a node i, proportional to the degree\n",
    "  # to get a node from the edge we got,  we pick a node from either end at random\n",
    "\n",
    "  if(random.rand() > 0.5): # gives us 1/2 probability of selection\n",
    "    return rand_edge.get_nodes()[0]\n",
    "  else:\n",
    "    return rand_edge.get_nodes()[1]\n",
    "```\n",
    "\n",
    "For the sake of simplicity, some functions are assumed to exist.  \n",
    "Formula:\n",
    "$$\n",
    "p(i) = \\frac{k_i}{m} * \\frac{1}{2} = \\frac{k_1}{2m}\n",
    "$$"
   ]
  },
  {
   "cell_type": "markdown",
   "metadata": {},
   "source": [
    "## 04 Weak & Strong connectivity\n",
    "\n",
    "### Instructions\n",
    "Depth-first search is the most efficient algorithm for finding connected components of undirected\n",
    "networks.\n",
    "- What would the same algorithm find in a directed network if one would follow the\n",
    "links in any direction?\n",
    "- What would the algorithm find if one would follow the links only in\n",
    "the right direction?\n",
    "- What would the algorithm find if one would follow the links only in the\n",
    "opposite direction?\n",
    "\n",
    "Based on your answers design an algorithm for finding strongly connected components in\n",
    "directed networks. Implement the algorithm and find strongly connected components of Enron\n",
    "e-mail communication network\n",
    "\n",
    "Compute the number of strongly connected components and the size of the largest one. Are\n",
    "the results expected?"
   ]
  },
  {
   "cell_type": "code",
   "execution_count": null,
   "metadata": {},
   "outputs": [],
   "source": [
    "!wget http://lovro.fri.uni-lj.si/ina/nets/enron.net"
   ]
  },
  {
   "cell_type": "markdown",
   "metadata": {},
   "source": [
    "### implementation"
   ]
  },
  {
   "cell_type": "code",
   "execution_count": 2,
   "metadata": {},
   "outputs": [],
   "source": [
    "import networkx as nx\n",
    "import glob\n",
    "import random\n",
    "from collections import deque\n",
    "import matplotlib.pyplot as plt\n",
    "import numpy as np"
   ]
  },
  {
   "cell_type": "code",
   "execution_count": 2,
   "metadata": {},
   "outputs": [],
   "source": [
    "enron = nx.read_pajek(\"enron.net\") # read the graph\n",
    "G = nx.convert_node_labels_to_integers(enron) #convert lables"
   ]
  },
  {
   "cell_type": "code",
   "execution_count": null,
   "metadata": {},
   "outputs": [],
   "source": [
    "#  compute all nodes\n",
    "def connected(G:nx.Graph, N:set[int], initial_node:int):\n",
    "    C = []\n",
    "    S = []\n",
    "    N.remove(initial_node)\n",
    "    S.append(initial_node)\n",
    "    while S: # while there are some not yet processe nodes, expend one\n",
    "        curr_node = S.pop() # get the node out of the queue\n",
    "        C.append(curr_node) # add it to the nodes in a component\n",
    "        for neigh in G[curr_node]: # for every neighbour of curr_node\n",
    "            if neigh in N: # if neigh is in N\n",
    "                N.remove(neigh) # remove it from nodes that we must process\n",
    "                S.append(neigh) # target it for expansion\n",
    "    return C # return all ids in a component\n",
    "\n",
    "# test implementation\n",
    "# display(connected(G, set(G.nodes), 1))\n",
    "\n",
    "# strongly connected\n",
    "# implementation with edge reversal.\n",
    "# compute the connected component and store the nodes in a set.\n",
    "# compute the connected comp. but reverse all the edges.\n",
    "# intersection of both sets will have all the nodes that can be reached either from this node AND by comming to this node from somewhere.\n",
    "\n",
    "def strong_connected(G:nx.DiGraph): # DiGraph, to get the correct typehinting\n",
    "    # https://networkx.org/documentation/stable/reference/classes/generated/networkx.DiGraph.reverse.html\n",
    "    reverse_G = G.reverse(copy=True)\n",
    "    strong_components = []\n",
    "    N = set(G.nodes)\n",
    "    while N:\n",
    "        curr_node = next(iter(N))\n",
    "        # normal pass\n",
    "        component = connected(G, N.copy(), curr_node)\n",
    "        # reverse pass\n",
    "        reverse_component = connected(reverse_G, N.copy(), curr_node)\n",
    "        # intersection compute\n",
    "        node_intersection = set(component) & set(reverse_component)\n",
    "        # add components\n",
    "        strong_components.append(node_intersection)\n",
    "        # remove from nodes to explore\n",
    "        N -= node_intersection\n",
    "\n",
    "    return strong_components\n",
    "\n",
    "# test implementation\n",
    "# display(strong_connected(G))\n",
    "\n"
   ]
  },
  {
   "cell_type": "code",
   "execution_count": 14,
   "metadata": {},
   "outputs": [
    {
     "name": "stdout",
     "output_type": "stream",
     "text": [
      "Number of strongly connected components: 78058\n",
      "Size of the largest strong component: 9164\n"
     ]
    }
   ],
   "source": [
    "strong_components = strong_connected(G) \n",
    "print(f'Number of strongly connected components: {len(strong_components)}')\n",
    "print(f'Size of the largest strong component: {len(sorted(strong_components, key=lambda x: len(x), reverse=True)[0])}')"
   ]
  },
  {
   "cell_type": "markdown",
   "metadata": {},
   "source": [
    "### Answer\n",
    "\n",
    "- DFS would find the weakly connected component in the graph, by following all directions from a node.  \n",
    "- DFS would find all components that are **reachable** from a given node.\n",
    "- DFS would find all components from which a give node **can be reachedd from**.\n",
    "\n",
    "Strongly connected components are those that can `reach eachother`. This is the intersection of last two anwers.\n"
   ]
  },
  {
   "cell_type": "markdown",
   "metadata": {},
   "source": [
    "# 05 Is Java software scale-free\n",
    "\n",
    "## Instructions\n",
    "Consider a software class dependency network representing Lucene search engine (Figure 1). This is a directed network where node $i$ links to node $j$ if the software class represented by $i$ depends on or uses the class represented by $j$.  \n",
    "\n",
    "![java graph](images/javaGraph.png)\n",
    "\n",
    "- Compute the degree distribution $p_k$ and plot it on a log-log plot by representing each distinct ($k$, $pk$) with a single dot, $k > 0$.  \n",
    "  - (Transformation to logarithmic axes should be done by your plotting software.) \n",
    "- Compute also the in-degree distribution $pk_{in}$\n",
    "- the out-degree distribution $pk_{out}$\n",
    "- superimpose them on the same plot using dots of different colors.\n",
    "- Compare all three degree distributions $pk$\n",
    "  -  and highlight the differences between them.\n",
    "  -  Do the distributions appear to be scale-free, following a power-law $k^{-\\lambda}$?\n",
    "-  For the distribution that not to appear like a power-law, reason why.\n",
    "-  For the distributions that do seem to follow a power-law, reason why and compute their power-law exponent $\\lambda$· using the maximum likelihood formula"
   ]
  },
  {
   "cell_type": "code",
   "execution_count": null,
   "metadata": {},
   "outputs": [],
   "source": [
    "# use wget to download\n",
    "!wget http://lovro.fri.uni-lj.si/ina/nets/lucene.net"
   ]
  },
  {
   "cell_type": "code",
   "execution_count": 36,
   "metadata": {},
   "outputs": [
    {
     "data": {
      "image/png": "[encoded data removed]",
      "text/plain": [
       "<Figure size 640x480 with 1 Axes>"
      ]
     },
     "metadata": {},
     "output_type": "display_data"
    }
   ],
   "source": [
    "# read graph\n",
    "G:nx.DiGraph = nx.read_pajek('lucene.net')\n",
    "\n",
    "# compute in, out and degree of each node\n",
    "stats = {\n",
    "  \"In degree\":[],\n",
    "  \"Out degree\":[],\n",
    "  \"Degree\": []\n",
    "} \n",
    "for curr_node in G:\n",
    "  stats[\"Degree\"].append(G.degree(curr_node))\n",
    "  stats[\"In degree\"].append(G.in_degree(curr_node))\n",
    "  stats[\"Out degree\"].append(G.out_degree(curr_node))\n",
    "\n",
    "# plotting\n",
    "for name, counts in stats.items():\n",
    "  degree, num_occourances = np.unique(np.array(counts), return_counts=True)\n",
    "  plt.scatter(degree, num_occourances, label=name)\n",
    "  # y_intercept, k  = np.polyfit(np.log(degree[1:]), np.log(num_occourances[1:]), 1)\n",
    "  # xs = np.linspace(degree[1],degree[-1], 10)\n",
    "  # ys = k * xs + y_intercept\n",
    "  # plt.plot(xs,xs, label=f\"{name} fit\")\n",
    "\n",
    "plt.legend()\n",
    "plt.yscale(\"log\")\n",
    "plt.xscale(\"log\")"
   ]
  },
  {
   "cell_type": "code",
   "execution_count": 40,
   "metadata": {},
   "outputs": [
    {
     "name": "stdout",
     "output_type": "stream",
     "text": [
      "Distribution: In degree, γ: 1.4165401703689287\n",
      "Distribution: Out degree, γ: 2.019228077103455\n",
      "Distribution: Degree, γ: 1.4175204029217188\n"
     ]
    }
   ],
   "source": [
    "MIN_K = 5\n",
    "\n",
    "def power_law_gamma(degrees):\n",
    "  k = np.array(degrees)\n",
    "  k = k[k >= MIN_K] # threshold out the MIN_K\n",
    "  return 1 + (len(k) / np.sum(np.log(k / (MIN_K - 0.5))))\n",
    "\n",
    "\n",
    "for name, counts in stats.items():\n",
    "  degree, num_occourances = np.unique(np.array(counts), return_counts=True)\n",
    "  print(f\"Distribution: {name}, γ: {power_law_gamma(degree)}\")"
   ]
  },
  {
   "cell_type": "markdown",
   "metadata": {},
   "source": [
    "### Answers\n",
    "- `In degree` (blue) follows the powerlaw distribution. It make sense that there are some huge libraries that almost everyone uses (think numpy) and a lot of specific small ones that are very unpopular (hubs).\n",
    "- `Out degree` (orange) doesnt follow the powerlaw. Packages almost always depend on some other packages since coding from scratch is tough. It also makes sense that the after some threshold we see almost no packages. This makes sense since we want to keep the dependency count as low as possible for a variety of practical purposes.\n",
    "- `Degree` (green) doesnt follow the powerlaw either, for reasons mentioned in out degree section. We can see that there is a small amount of really large projects, which have a large amount of dependencies and dependees (I dont program in java, but Pytorch would seem like a python analog of such library)"
   ]
  },
  {
   "cell_type": "code",
   "execution_count": 6,
   "metadata": {},
   "outputs": [],
   "source": [
    "\n",
    "networks = [i for i in glob.glob(\"./networks/*.adj\")]\n",
    "\n",
    "def distance(G, i):\n",
    "  D = [-1] * len(G) # D = {}\n",
    "  Q = deque()\n",
    "  D[i] = 0\n",
    "  Q.append(i)\n",
    "  while Q:\n",
    "    i = Q.popleft()\n",
    "    for j in G[i]:\n",
    "      if D[j] == -1: # if j not in D:\n",
    "        D[j] = D[i] + 1\n",
    "        Q.append(j)\n",
    "  return [d for d in D if d > 0]\n",
    "\n",
    "def distances(G):\n",
    "  D = []\n",
    "  for i in random.sample(list(G.nodes()), 30):\n",
    "    D.append(distance(G, i))\n",
    "  return D\n",
    "\n",
    "def info(G):\n",
    "  print(\"{:>10s} | '{:s}'\".format('Graph', G.name))\n",
    "\n",
    "  n = G.number_of_nodes()\n",
    "  n0, n1, delta = 0, 0, 0\n",
    "  print(\"{:>10s} | {:,d} ({:,d}, {:,d})\".format('Nodes', n, n0, n1))\n",
    "\n",
    "  m = G.number_of_edges()\n",
    "  print(\"{:>10s} | {:.2f} ({:,d})\".format('Degree', 2 * m / n, delta))\n",
    "\n",
    "  D = distances(G)\n",
    "  D = [i for d in D for i in d]\n",
    "\n",
    "  print(\"{:>10s} | {:.2f} ({:,d})\".format('Distance', sum(D) / len(D), max(D)))\n",
    "\n",
    "  avg_cluster = nx.average_clustering(nx.Graph(G))\n",
    "  print(f\"avg clustering: {avg_cluster}\")\n",
    "\n",
    "  largest_cc = max(nx.connected_components(G), key=len)\n",
    "  print(f\"Largest cc: {len(largest_cc)} being {n / len(largest_cc) * 100}% of the graph\")\n",
    "\n",
    "  h, a = nx.hits(G, tol=10e-2)\n",
    "  h_m = max(h, key = lambda x: h[x])\n",
    "  hub_size = len(list(G.neighbors(h_m)))\n",
    "  print(f\"Hub size {hub_size}\")"
   ]
  },
  {
   "cell_type": "code",
   "execution_count": 7,
   "metadata": {},
   "outputs": [
    {
     "name": "stdout",
     "output_type": "stream",
     "text": [
      "type:   DIRECTED\n",
      "     Graph | './networks/network_1.adj'\n",
      "     Nodes | 291,934 (0, 0)\n",
      "    Degree | 7.10 (0)\n",
      "  Distance | 6.24 (13)\n",
      "avg clustering: 0.25394067066706016\n",
      "Largest cc: 291934 being 100.0% of the graph\n",
      "Hub size 10721\n",
      "--------------------------------\n",
      "type: UNDIRECTED\n",
      "     Graph | './networks/network_2.adj'\n",
      "     Nodes | 189,207 (0, 0)\n",
      "    Degree | 7.44 (0)\n",
      "  Distance | 6.21 (10)\n",
      "avg clustering: 3.437215379691078e-05\n",
      "Largest cc: 189207 being 100.0% of the graph\n",
      "Hub size 21\n",
      "--------------------------------\n",
      "type: UNDIRECTED\n",
      "     Graph | './networks/network_3.adj'\n",
      "     Nodes | 94,093 (0, 0)\n",
      "    Degree | 16.29 (0)\n",
      "  Distance | 4.34 (12)\n",
      "avg clustering: 0.0\n",
      "Largest cc: 94093 being 100.0% of the graph\n",
      "Hub size 340\n",
      "--------------------------------\n",
      "type:   DIRECTED\n",
      "     Graph | './networks/network_4.adj'\n",
      "     Nodes | 202,275 (0, 0)\n",
      "    Degree | 5.03 (0)\n",
      "  Distance | 6.34 (18)\n",
      "avg clustering: 0.07978452668214911\n",
      "Largest cc: 202275 being 100.0% of the graph\n",
      "Hub size 2803\n",
      "--------------------------------\n",
      "type: UNDIRECTED\n",
      "     Graph | './networks/network_5.adj'\n",
      "     Nodes | 83,159 (0, 0)\n",
      "    Degree | 132.52 (0)\n",
      "  Distance | 3.13 (5)\n"
     ]
    }
   ],
   "source": [
    "for name in networks:\n",
    "  G = nx.read_edgelist(name)\n",
    "  G_ud = nx.read_edgelist(name ,create_using=nx.DiGraph)\n",
    "  # by comparing edge count we can determine if a graph is directed or not\n",
    "  if(G.number_of_edges() == G_ud.number_of_edges()):\n",
    "    print(f\"type: UNDIRECTED\")\n",
    "  else:\n",
    "    print(f\"type:   DIRECTED\")\n",
    "\n",
    "\n",
    "  G = nx.convert_node_labels_to_integers(G, label_attribute = 'label')\n",
    "  G.name = name\n",
    "  info(G)\n",
    "  \n",
    "  print(\"--------------------------------\")"
   ]
  },
  {
   "cell_type": "markdown",
   "metadata": {},
   "source": [
    "## Answer\n",
    "\n",
    "We can se that some graphs are directe and some not. We know that directed graphs can be either `citation` or `web`. \n",
    "Based on the hub size, we can decide that:\n",
    "- 1 is `citation`\n",
    "- 4 is `web`\n",
    "\n",
    "We know that IMDB will have some clusters of people so we anticipate some non zero clustering. This gives us \n",
    "- 5 is `imdb`\n",
    "\n",
    "I assume that given that clustering is 0 in bipartite graphs, this should be true for FLICKR.\n",
    "- 3 is `flickr`\n",
    "\n",
    "giving us erdos reny model:\n",
    "- 2 is`erodos reny`"
   ]
  },
  {
   "cell_type": "markdown",
   "metadata": {},
   "source": [
    "# 07 Who to vaccinate\n",
    "\n",
    "## Question\n",
    "The probability that an individual would spread some viral disease through her/his social network is proportional to $k^2$, where $k$ is the degree of the corresponding node.  \n",
    "Consider two immunization schemes for preventing the spread of diseases. In the first scheme, you randomly select some number of individuals and vaccinate them. In the second scheme, you first select the same individuals, but then rather vaccinate a random acquaintance\n",
    "of theirs.\n",
    "\n",
    "- Which of the two schemes will provide better immunization? Why?"
   ]
  },
  {
   "cell_type": "markdown",
   "metadata": {},
   "source": [
    "## Answer\n",
    "\n",
    "The answer is based on the `friends of friends` phenomenon observed in social networks.  \n",
    "It is better to vaccinate a `random friend` of random people, since there is a high chance that the selected friend has a lot of other friends (high degree).  \n",
    "To maximize efficiency we want to vaccinate popular people (hubs in social networks) that could recieve the infection by more people and then give it to more people.  "
   ]
  }
 ],
 "metadata": {
  "kernelspec": {
   "display_name": "venv",
   "language": "python",
   "name": "python3"
  },
  "language_info": {
   "codemirror_mode": {
    "name": "ipython",
    "version": 3
   },
   "file_extension": ".py",
   "mimetype": "text/x-python",
   "name": "python",
   "nbconvert_exporter": "python",
   "pygments_lexer": "ipython3",
   "version": "3.11.8"
  }
 },
 "nbformat": 4,
 "nbformat_minor": 2
}
