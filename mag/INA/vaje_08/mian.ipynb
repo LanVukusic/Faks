{
 "cells": [
  {
   "cell_type": "code",
   "execution_count": 4,
   "metadata": {},
   "outputs": [
    {
     "name": "stdout",
     "output_type": "stream",
     "text": [
      "downloading http://lovro.fri.uni-lj.si/ina/nets/cdn_java.net\n"
     ]
    },
    {
     "name": "stdout",
     "output_type": "stream",
     "text": [
      "--2024-04-15 13:49:45--  http://lovro.fri.uni-lj.si/ina/nets/cdn_java.net\n",
      "Resolving lovro.fri.uni-lj.si (lovro.fri.uni-lj.si)... 2606:50c0:8001::153, 2606:50c0:8002::153, 2606:50c0:8000::153, ...\n",
      "Connecting to lovro.fri.uni-lj.si (lovro.fri.uni-lj.si)|2606:50c0:8001::153|:80... connected.\n",
      "HTTP request sent, awaiting response... 301 Moved Permanently\n",
      "Location: https://lovro.fri.uni-lj.si/ina/nets/cdn_java.net [following]\n",
      "--2024-04-15 13:49:45--  https://lovro.fri.uni-lj.si/ina/nets/cdn_java.net\n",
      "Connecting to lovro.fri.uni-lj.si (lovro.fri.uni-lj.si)|2606:50c0:8001::153|:443... connected.\n",
      "HTTP request sent, awaiting response... 200 OK\n",
      "Length: 143194 (140K) [application/octet-stream]\n",
      "Saving to: ‘cdn_java.net.1’\n",
      "\n",
      "cdn_java.net.1      100%[===================>] 139.84K  --.-KB/s    in 0.08s   \n",
      "\n",
      "2024-04-15 13:49:45 (1.66 MB/s) - ‘cdn_java.net.1’ saved [143194/143194]\n",
      "\n",
      "downloading http://lovro.fri.uni-lj.si/ina/nets/cdn_jung.net\n",
      "--2024-04-15 13:49:45--  http://lovro.fri.uni-lj.si/ina/nets/cdn_jung.net\n",
      "Resolving lovro.fri.uni-lj.si (lovro.fri.uni-lj.si)... 2606:50c0:8002::153, 2606:50c0:8001::153, 2606:50c0:8000::153, ...\n",
      "Connecting to lovro.fri.uni-lj.si (lovro.fri.uni-lj.si)|2606:50c0:8002::153|:80... connected.\n",
      "HTTP request sent, awaiting response... 301 Moved Permanently\n",
      "Location: https://lovro.fri.uni-lj.si/ina/nets/cdn_jung.net [following]\n",
      "--2024-04-15 13:49:45--  https://lovro.fri.uni-lj.si/ina/nets/cdn_jung.net\n",
      "Connecting to lovro.fri.uni-lj.si (lovro.fri.uni-lj.si)|2606:50c0:8002::153|:443... connected.\n",
      "HTTP request sent, awaiting response... 200 OK\n",
      "Length: 31856 (31K) [application/octet-stream]\n",
      "Saving to: ‘cdn_jung.net.1’\n",
      "\n",
      "cdn_jung.net.1      100%[===================>]  31.11K  --.-KB/s    in 0.01s   \n",
      "\n",
      "2024-04-15 13:49:46 (2.67 MB/s) - ‘cdn_jung.net.1’ saved [31856/31856]\n",
      "\n",
      "downloading http://lovro.fri.uni-lj.si/ina/nets/wikileaks.net\n",
      "--2024-04-15 13:49:46--  http://lovro.fri.uni-lj.si/ina/nets/wikileaks.net\n",
      "Resolving lovro.fri.uni-lj.si (lovro.fri.uni-lj.si)... 2606:50c0:8002::153, 2606:50c0:8000::153, 2606:50c0:8001::153, ...\n",
      "Connecting to lovro.fri.uni-lj.si (lovro.fri.uni-lj.si)|2606:50c0:8002::153|:80... connected.\n",
      "HTTP request sent, awaiting response... 301 Moved Permanently\n",
      "Location: https://lovro.fri.uni-lj.si/ina/nets/wikileaks.net [following]\n",
      "--2024-04-15 13:49:46--  https://lovro.fri.uni-lj.si/ina/nets/wikileaks.net\n",
      "Connecting to lovro.fri.uni-lj.si (lovro.fri.uni-lj.si)|2606:50c0:8002::153|:443... connected.\n",
      "HTTP request sent, awaiting response... 200 OK\n",
      "Length: 2171054 (2.1M) [application/octet-stream]\n",
      "Saving to: ‘wikileaks.net.1’\n",
      "\n",
      "wikileaks.net.1     100%[===================>]   2.07M  1.87MB/s    in 1.1s    \n",
      "\n",
      "2024-04-15 13:49:47 (1.87 MB/s) - ‘wikileaks.net.1’ saved [2171054/2171054]\n",
      "\n",
      "downloading http://lovro.fri.uni-lj.si/ina/nets/collaboration_imdb.net\n",
      "--2024-04-15 13:49:48--  http://lovro.fri.uni-lj.si/ina/nets/collaboration_imdb.net\n",
      "Resolving lovro.fri.uni-lj.si (lovro.fri.uni-lj.si)... 2606:50c0:8001::153, 2606:50c0:8000::153, 2606:50c0:8002::153, ...\n",
      "Connecting to lovro.fri.uni-lj.si (lovro.fri.uni-lj.si)|2606:50c0:8001::153|:80... connected.\n",
      "HTTP request sent, awaiting response... 301 Moved Permanently\n",
      "Location: https://lovro.fri.uni-lj.si/ina/nets/collaboration_imdb.net [following]\n",
      "--2024-04-15 13:49:48--  https://lovro.fri.uni-lj.si/ina/nets/collaboration_imdb.net\n",
      "Connecting to lovro.fri.uni-lj.si (lovro.fri.uni-lj.si)|2606:50c0:8001::153|:443... connected.\n",
      "HTTP request sent, awaiting response... 200 OK\n",
      "Length: 3496761 (3.3M) [application/octet-stream]\n",
      "Saving to: ‘collaboration_imdb.net.1’\n",
      "\n",
      "collaboration_imdb. 100%[===================>]   3.33M  1.79MB/s    in 1.9s    \n",
      "\n",
      "2024-04-15 13:49:50 (1.79 MB/s) - ‘collaboration_imdb.net.1’ saved [3496761/3496761]\n",
      "\n"
     ]
    },
    {
     "data": {
      "text/plain": [
       "['cdn_java.net', 'cdn_jung.net', 'wikileaks.net', 'collaboration_imdb.net']"
      ]
     },
     "execution_count": 4,
     "metadata": {},
     "output_type": "execute_result"
    }
   ],
   "source": [
    "nets = [\n",
    "\"http://lovro.fri.uni-lj.si/ina/nets/cdn_java.net\",\n",
    "\"http://lovro.fri.uni-lj.si/ina/nets/cdn_jung.net\",\n",
    "\"http://lovro.fri.uni-lj.si/ina/nets/wikileaks.net\",\n",
    "\"http://lovro.fri.uni-lj.si/ina/nets/collaboration_imdb.net\",\n",
    "]\n",
    "\n",
    "named_nets = [i.split(\"/\")[-1] for i in nets]\n",
    "\n",
    "for i in nets:\n",
    "  print(f\"downloading {i}\")\n",
    "  !wget {i}\n",
    "\n",
    "named_nets"
   ]
  }
 ],
 "metadata": {
  "kernelspec": {
   "display_name": "venv",
   "language": "python",
   "name": "python3"
  },
  "language_info": {
   "codemirror_mode": {
    "name": "ipython",
    "version": 3
   },
   "file_extension": ".py",
   "mimetype": "text/x-python",
   "name": "python",
   "nbconvert_exporter": "python",
   "pygments_lexer": "ipython3",
   "version": "3.11.8"
  }
 },
 "nbformat": 4,
 "nbformat_minor": 2
}
