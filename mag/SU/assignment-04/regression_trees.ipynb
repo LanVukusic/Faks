{
 "cells": [
  {
   "cell_type": "code",
   "execution_count": 168,
   "metadata": {},
   "outputs": [
    {
     "name": "stdout",
     "output_type": "stream",
     "text": [
      "Collecting matplotlib\n",
      "  Downloading matplotlib-3.8.2-cp312-cp312-manylinux_2_17_x86_64.manylinux2014_x86_64.whl.metadata (5.8 kB)\n",
      "Collecting contourpy>=1.0.1 (from matplotlib)\n",
      "  Downloading contourpy-1.2.0-cp312-cp312-manylinux_2_17_x86_64.manylinux2014_x86_64.whl.metadata (5.8 kB)\n",
      "Collecting cycler>=0.10 (from matplotlib)\n",
      "  Downloading cycler-0.12.1-py3-none-any.whl.metadata (3.8 kB)\n",
      "Collecting fonttools>=4.22.0 (from matplotlib)\n",
      "  Downloading fonttools-4.46.0-cp312-cp312-manylinux_2_5_x86_64.manylinux1_x86_64.manylinux_2_17_x86_64.manylinux2014_x86_64.whl.metadata (156 kB)\n",
      "\u001b[2K     \u001b[38;2;114;156;31m━━━━━━━━━━━━━━━━━━━━━━━━━━━━━━━━━━━━━━━\u001b[0m \u001b[32m156.2/156.2 kB\u001b[0m \u001b[31m1.2 MB/s\u001b[0m eta \u001b[36m0:00:00\u001b[0m[31m1.3 MB/s\u001b[0m eta \u001b[36m0:00:01\u001b[0m\n",
      "\u001b[?25hCollecting kiwisolver>=1.3.1 (from matplotlib)\n",
      "  Downloading kiwisolver-1.4.5-cp312-cp312-manylinux_2_17_x86_64.manylinux2014_x86_64.whl.metadata (6.4 kB)\n",
      "Requirement already satisfied: numpy<2,>=1.21 in ./.venv/lib64/python3.12/site-packages (from matplotlib) (1.26.2)\n",
      "Requirement already satisfied: packaging>=20.0 in ./.venv/lib64/python3.12/site-packages (from matplotlib) (23.2)\n",
      "Collecting pillow>=8 (from matplotlib)\n",
      "  Downloading Pillow-10.1.0-cp312-cp312-manylinux_2_28_x86_64.whl.metadata (9.5 kB)\n",
      "Collecting pyparsing>=2.3.1 (from matplotlib)\n",
      "  Downloading pyparsing-3.1.1-py3-none-any.whl.metadata (5.1 kB)\n",
      "Requirement already satisfied: python-dateutil>=2.7 in ./.venv/lib64/python3.12/site-packages (from matplotlib) (2.8.2)\n",
      "Requirement already satisfied: six>=1.5 in ./.venv/lib64/python3.12/site-packages (from python-dateutil>=2.7->matplotlib) (1.16.0)\n",
      "Downloading matplotlib-3.8.2-cp312-cp312-manylinux_2_17_x86_64.manylinux2014_x86_64.whl (11.6 MB)\n",
      "\u001b[2K   \u001b[38;2;114;156;31m━━━━━━━━━━━━━━━━━━━━━━━━━━━━━━━━━━━━━━━━\u001b[0m \u001b[32m11.6/11.6 MB\u001b[0m \u001b[31m4.6 MB/s\u001b[0m eta \u001b[36m0:00:00\u001b[0mm eta \u001b[36m0:00:01\u001b[0m[36m0:00:01\u001b[0m\n",
      "\u001b[?25hDownloading contourpy-1.2.0-cp312-cp312-manylinux_2_17_x86_64.manylinux2014_x86_64.whl (303 kB)\n",
      "\u001b[2K   \u001b[38;2;114;156;31m━━━━━━━━━━━━━━━━━━━━━━━━━━━━━━━━━━━━━━━━\u001b[0m \u001b[32m303.9/303.9 kB\u001b[0m \u001b[31m4.8 MB/s\u001b[0m eta \u001b[36m0:00:00\u001b[0m[31m8.2 MB/s\u001b[0m eta \u001b[36m0:00:01\u001b[0m\n",
      "\u001b[?25hDownloading cycler-0.12.1-py3-none-any.whl (8.3 kB)\n",
      "Downloading fonttools-4.46.0-cp312-cp312-manylinux_2_5_x86_64.manylinux1_x86_64.manylinux_2_17_x86_64.manylinux2014_x86_64.whl (4.9 MB)\n",
      "\u001b[2K   \u001b[38;2;114;156;31m━━━━━━━━━━━━━━━━━━━━━━━━━━━━━━━━━━━━━━━━\u001b[0m \u001b[32m4.9/4.9 MB\u001b[0m \u001b[31m6.2 MB/s\u001b[0m eta \u001b[36m0:00:00\u001b[0m[36m0:00:01\u001b[0m[36m0:00:01\u001b[0m:01\u001b[0m\n",
      "\u001b[?25hDownloading kiwisolver-1.4.5-cp312-cp312-manylinux_2_17_x86_64.manylinux2014_x86_64.whl (1.5 MB)\n",
      "\u001b[2K   \u001b[38;2;114;156;31m━━━━━━━━━━━━━━━━━━━━━━━━━━━━━━━━━━━━━━━━\u001b[0m \u001b[32m1.5/1.5 MB\u001b[0m \u001b[31m6.6 MB/s\u001b[0m eta \u001b[36m0:00:00\u001b[0m[36m0:00:01\u001b[0m[36m0:00:01\u001b[0m:01\u001b[0m\n",
      "\u001b[?25hDownloading Pillow-10.1.0-cp312-cp312-manylinux_2_28_x86_64.whl (3.6 MB)\n",
      "\u001b[2K   \u001b[38;2;114;156;31m━━━━━━━━━━━━━━━━━━━━━━━━━━━━━━━━━━━━━━━━\u001b[0m \u001b[32m3.6/3.6 MB\u001b[0m \u001b[31m6.4 MB/s\u001b[0m eta \u001b[36m0:00:00\u001b[0m[36m0:00:01\u001b[0m[36m0:00:01\u001b[0m:01\u001b[0m\n",
      "\u001b[?25hDownloading pyparsing-3.1.1-py3-none-any.whl (103 kB)\n",
      "\u001b[2K   \u001b[38;2;114;156;31m━━━━━━━━━━━━━━━━━━━━━━━━━━━━━━━━━━━━━━━━\u001b[0m \u001b[32m103.1/103.1 kB\u001b[0m \u001b[31m4.7 MB/s\u001b[0m eta \u001b[36m0:00:00\u001b[0m\n",
      "\u001b[?25hInstalling collected packages: pyparsing, pillow, kiwisolver, fonttools, cycler, contourpy, matplotlib\n",
      "Successfully installed contourpy-1.2.0 cycler-0.12.1 fonttools-4.46.0 kiwisolver-1.4.5 matplotlib-3.8.2 pillow-10.1.0 pyparsing-3.1.1\n",
      "Note: you may need to restart the kernel to use updated packages.\n"
     ]
    }
   ],
   "source": [
    "# %pip install pandas \n",
    "# %pip install numpy\n",
    "# %pip install scikit-learn\n",
    "# %pip install matplotlib"
   ]
  },
  {
   "cell_type": "code",
   "execution_count": 159,
   "metadata": {},
   "outputs": [],
   "source": [
    "import numpy as np\n",
    "import pandas as pd"
   ]
  },
  {
   "cell_type": "code",
   "execution_count": 160,
   "metadata": {},
   "outputs": [
    {
     "name": "stdout",
     "output_type": "stream",
     "text": [
      "   price  crime_rate  resid_area  air_qual  room_num   age  dist1  dist2  \\\n",
      "0   24.0     0.00632       32.31     0.538     6.575  65.2   4.35   3.81   \n",
      "1   21.6     0.02731       37.07     0.469     6.421  78.9   4.99   4.70   \n",
      "2   34.7     0.02729       37.07     0.469     7.185  61.1   5.03   4.86   \n",
      "3   33.4     0.03237       32.18     0.458     6.998  45.8   6.21   5.93   \n",
      "4   36.2     0.06905       32.18     0.458     7.147  54.2   6.16   5.86   \n",
      "\n",
      "   dist3  dist4  ...  poor_prop  airport  n_hos_beds  n_hot_rooms  rainfall  \\\n",
      "0   4.18   4.01  ...       4.98        1       5.480      11.1920        23   \n",
      "1   5.12   5.06  ...       9.14        0       7.332      12.1728        42   \n",
      "2   5.01   4.97  ...       4.03        0       7.394     101.1200        38   \n",
      "3   6.16   5.96  ...       2.94        1       9.268      11.2672        45   \n",
      "4   6.37   5.86  ...       5.33        0       8.824      11.2896        55   \n",
      "\n",
      "      parks   Lake  Lake and River  No waterbody  River  \n",
      "0  0.049347  False           False         False   True  \n",
      "1  0.046146   True           False         False  False  \n",
      "2  0.045764  False           False          True  False  \n",
      "3  0.047151   True           False         False  False  \n",
      "4  0.039474   True           False         False  False  \n",
      "\n",
      "[5 rows x 21 columns]\n",
      "count    498.000000\n",
      "mean      22.578715\n",
      "std        9.191142\n",
      "min        5.000000\n",
      "25%       17.025000\n",
      "50%       21.200000\n",
      "75%       25.000000\n",
      "max       50.000000\n",
      "Name: price, dtype: float64\n",
      "(498, 20)\n",
      "(498,)\n"
     ]
    }
   ],
   "source": [
    "df = pd.read_csv('House_Price.csv')\n",
    "df['airport'] = df['airport'].apply(lambda x: 0 if x == 'NO' else 1)\n",
    "df = df.drop(['bus_ter'], axis=1)\n",
    "df = df.join(pd.get_dummies(df['waterbody'].fillna('No waterbody'))).drop('waterbody', axis=1)\n",
    "df = df.dropna()\n",
    "X_in = df.drop('price', axis=1).values.astype(np.float64)\n",
    "y_in = df['price'].values\n",
    "\n",
    "print(df.head())\n",
    "print(df['price'].describe())\n",
    "\n",
    "print(X_in.shape)\n",
    "print(y_in.shape)"
   ]
  },
  {
   "cell_type": "code",
   "execution_count": 161,
   "metadata": {},
   "outputs": [],
   "source": [
    "class Node:\n",
    "  def __init__(self, variable:int, threshold:float, mean: float = None) -> None:\n",
    "    self.variable = variable\n",
    "    self.threshold = threshold\n",
    "    self.mean = mean\n",
    "    self.leftNode: Node = None\n",
    "    self.rightNode: Node = None\n",
    "  \n",
    "  def predict(self, X):\n",
    "    # check if this node should return the prediction of one of the lower nodes\n",
    "    # or should it just compute the mean and return it\n",
    "    out = np.ones(X.shape[0])\n",
    "    if(self.mean is not None):\n",
    "      # last node, compute average\n",
    "      return out * self.mean\n",
    "    else:\n",
    "      left_mask = X[:, self.variable] < self.threshold\n",
    "      right_mask = ~left_mask\n",
    "\n",
    "      left_y = self.leftNode.predict(X[left_mask])\n",
    "      right_y = self.rightNode.predict(X[right_mask])\n",
    "\n",
    "      out [left_mask] = left_y \n",
    "      out [right_mask] = right_y \n",
    "      return out\n",
    "\n"
   ]
  },
  {
   "cell_type": "code",
   "execution_count": 162,
   "metadata": {},
   "outputs": [],
   "source": [
    "def get_best_split(X,y)-> (int, float):\n",
    "  # X is the feature matrix, y is the target variable\n",
    "  num_samples, num_features = X.shape\n",
    "  best_feature = None\n",
    "  best_threshold = None\n",
    "  best_mse = np.inf  # Initialize with a large value\n",
    "  left_best_mask = None\n",
    "  right_best_mask = None\n",
    "  \n",
    "  for feature_idx in range(num_features):\n",
    "      # Sort the feature values and corresponding target variable\n",
    "      sorted_indices = np.argsort(X[:, feature_idx])\n",
    "      sorted_values = X[sorted_indices, feature_idx]\n",
    "      \n",
    "      for i in range(1, num_samples):\n",
    "          # Calculate the threshold as the average of adjacent values\n",
    "          threshold = (sorted_values[i - 1] + sorted_values[i]) / 2\n",
    "          \n",
    "          # Split the dataset based on the threshold\n",
    "          left_mask = X[:, feature_idx] <= threshold\n",
    "          right_mask = ~left_mask\n",
    "          \n",
    "          # Calculate mean squared error for the split\n",
    "          left_mse = np.mean(np.square((y[left_mask] - np.mean(y[left_mask]))))\n",
    "          right_mse = np.mean(np.square((y[right_mask] - np.mean(y[right_mask]))))\n",
    "          \n",
    "          # Weighted sum of MSE\n",
    "          mse = (left_mse * np.sum(left_mask) + right_mse * np.sum(right_mask)) / num_samples\n",
    "          \n",
    "          # Update the best split if the current one is better\n",
    "          if mse < best_mse:\n",
    "              best_mse = mse\n",
    "              best_feature = feature_idx\n",
    "              best_threshold = threshold\n",
    "              left_best_mask = left_mask\n",
    "              right_best_mask = right_mask\n",
    "  \n",
    "  return best_feature, best_threshold, best_mse, left_best_mask, right_best_mask"
   ]
  },
  {
   "cell_type": "code",
   "execution_count": 163,
   "metadata": {},
   "outputs": [
    {
     "name": "stdout",
     "output_type": "stream",
     "text": [
      "10 6.195 12.179075338753387\n"
     ]
    },
    {
     "name": "stderr",
     "output_type": "stream",
     "text": [
      "/home/lanv/Desktop/Faks/mag/SU/assignment-04/.venv/lib64/python3.12/site-packages/numpy/core/fromnumeric.py:3504: RuntimeWarning: Mean of empty slice.\n",
      "  return _methods._mean(a, axis=axis, dtype=dtype,\n",
      "/home/lanv/Desktop/Faks/mag/SU/assignment-04/.venv/lib64/python3.12/site-packages/numpy/core/_methods.py:129: RuntimeWarning: invalid value encountered in scalar divide\n",
      "  ret = ret.dtype.type(ret / rcount)\n"
     ]
    }
   ],
   "source": [
    "best_feature, best_threshold, best_mse, left_best_mask, right_best_mask = get_best_split(X_in[:50], y_in[:50])\n",
    "print(best_feature, best_threshold, best_mse)"
   ]
  },
  {
   "cell_type": "code",
   "execution_count": 164,
   "metadata": {},
   "outputs": [],
   "source": [
    "SPLITS_COUNT = 20\n",
    "\n",
    "def train_tree(X,Y, splits_remaining = SPLITS_COUNT):\n",
    "  if(splits_remaining == 0 or X.shape[0] < 2):\n",
    "    return Node(0,0,np.mean(Y))\n",
    "  \n",
    "  best_feature, best_threshold, best_mse, left_best_mask, right_best_mask = get_best_split(X,Y)\n",
    "  n = Node(best_feature, best_threshold)\n",
    "  n.leftNode = train_tree(X[left_best_mask, :],Y[left_best_mask], splits_remaining = splits_remaining-1)\n",
    "  n.rightNode = train_tree(X[ right_best_mask, :],Y[right_best_mask], splits_remaining = splits_remaining-1)\n",
    "  return n\n",
    "\n",
    "node = train_tree(X_in,y_in)"
   ]
  },
  {
   "cell_type": "code",
   "execution_count": 165,
   "metadata": {},
   "outputs": [
    {
     "name": "stdout",
     "output_type": "stream",
     "text": [
      "4.042599732262383\n",
      "1.9898953462370788\n"
     ]
    }
   ],
   "source": [
    "y_hat = node.predict(X_in)\n",
    "# print(y_hat)\n",
    "print(np.mean(np.square(y_in - y_hat)))\n",
    "print(np.std(y_in - y_hat))"
   ]
  },
  {
   "cell_type": "code",
   "execution_count": 170,
   "metadata": {},
   "outputs": [],
   "source": [
    "\n",
    "from sklearn.tree import DecisionTreeRegressor\n",
    "import matplotlib.pyplot as plt\n",
    "\n"
   ]
  },
  {
   "cell_type": "code",
   "execution_count": 172,
   "metadata": {},
   "outputs": [
    {
     "name": "stderr",
     "output_type": "stream",
     "text": [
      "/home/lanv/Desktop/Faks/mag/SU/assignment-04/.venv/lib64/python3.12/site-packages/numpy/core/fromnumeric.py:3504: RuntimeWarning: Mean of empty slice.\n",
      "  return _methods._mean(a, axis=axis, dtype=dtype,\n",
      "/home/lanv/Desktop/Faks/mag/SU/assignment-04/.venv/lib64/python3.12/site-packages/numpy/core/_methods.py:129: RuntimeWarning: invalid value encountered in scalar divide\n",
      "  ret = ret.dtype.type(ret / rcount)\n"
     ]
    },
    {
     "name": "stdout",
     "output_type": "stream",
     "text": [
      "train: 4.114008620689655 test: 12.720882352941178 abs: 3.566634597620168 skl:13.569705882352938\n"
     ]
    },
    {
     "name": "stderr",
     "output_type": "stream",
     "text": [
      "/home/lanv/Desktop/Faks/mag/SU/assignment-04/.venv/lib64/python3.12/site-packages/numpy/core/fromnumeric.py:3504: RuntimeWarning: Mean of empty slice.\n",
      "  return _methods._mean(a, axis=axis, dtype=dtype,\n",
      "/home/lanv/Desktop/Faks/mag/SU/assignment-04/.venv/lib64/python3.12/site-packages/numpy/core/_methods.py:129: RuntimeWarning: invalid value encountered in scalar divide\n",
      "  ret = ret.dtype.type(ret / rcount)\n"
     ]
    },
    {
     "name": "stdout",
     "output_type": "stream",
     "text": [
      "train: 1.9945258620689656 test: 12.08735294117647 abs: 3.4766870640275447 skl:10.950882352941177\n"
     ]
    },
    {
     "name": "stderr",
     "output_type": "stream",
     "text": [
      "/home/lanv/Desktop/Faks/mag/SU/assignment-04/.venv/lib64/python3.12/site-packages/numpy/core/fromnumeric.py:3504: RuntimeWarning: Mean of empty slice.\n",
      "  return _methods._mean(a, axis=axis, dtype=dtype,\n",
      "/home/lanv/Desktop/Faks/mag/SU/assignment-04/.venv/lib64/python3.12/site-packages/numpy/core/_methods.py:129: RuntimeWarning: invalid value encountered in scalar divide\n",
      "  ret = ret.dtype.type(ret / rcount)\n"
     ]
    },
    {
     "name": "stdout",
     "output_type": "stream",
     "text": [
      "train: 4.69459051724138 test: 10.734705882352939 abs: 3.27638610092781 skl:11.177352941176471\n"
     ]
    },
    {
     "name": "stderr",
     "output_type": "stream",
     "text": [
      "/home/lanv/Desktop/Faks/mag/SU/assignment-04/.venv/lib64/python3.12/site-packages/numpy/core/fromnumeric.py:3504: RuntimeWarning: Mean of empty slice.\n",
      "  return _methods._mean(a, axis=axis, dtype=dtype,\n",
      "/home/lanv/Desktop/Faks/mag/SU/assignment-04/.venv/lib64/python3.12/site-packages/numpy/core/_methods.py:129: RuntimeWarning: invalid value encountered in scalar divide\n",
      "  ret = ret.dtype.type(ret / rcount)\n"
     ]
    },
    {
     "name": "stdout",
     "output_type": "stream",
     "text": [
      "train: 4.441075268817204 test: 14.591515151515152 abs: 3.8198841803797077 skl:7.650606060606058\n"
     ]
    },
    {
     "name": "stderr",
     "output_type": "stream",
     "text": [
      "/home/lanv/Desktop/Faks/mag/SU/assignment-04/.venv/lib64/python3.12/site-packages/numpy/core/fromnumeric.py:3504: RuntimeWarning: Mean of empty slice.\n",
      "  return _methods._mean(a, axis=axis, dtype=dtype,\n",
      "/home/lanv/Desktop/Faks/mag/SU/assignment-04/.venv/lib64/python3.12/site-packages/numpy/core/_methods.py:129: RuntimeWarning: invalid value encountered in scalar divide\n",
      "  ret = ret.dtype.type(ret / rcount)\n"
     ]
    },
    {
     "name": "stdout",
     "output_type": "stream",
     "text": [
      "train: 7.08462365591398 test: 66.12454545454544 abs: 8.131700034712633 skl:116.51121212121211\n"
     ]
    },
    {
     "name": "stderr",
     "output_type": "stream",
     "text": [
      "/home/lanv/Desktop/Faks/mag/SU/assignment-04/.venv/lib64/python3.12/site-packages/numpy/core/fromnumeric.py:3504: RuntimeWarning: Mean of empty slice.\n",
      "  return _methods._mean(a, axis=axis, dtype=dtype,\n",
      "/home/lanv/Desktop/Faks/mag/SU/assignment-04/.venv/lib64/python3.12/site-packages/numpy/core/_methods.py:129: RuntimeWarning: invalid value encountered in scalar divide\n",
      "  ret = ret.dtype.type(ret / rcount)\n"
     ]
    },
    {
     "name": "stdout",
     "output_type": "stream",
     "text": [
      "train: 2.747225806451613 test: 35.38212121212121 abs: 5.948287250303335 skl:35.49454545454546\n"
     ]
    },
    {
     "name": "stderr",
     "output_type": "stream",
     "text": [
      "/home/lanv/Desktop/Faks/mag/SU/assignment-04/.venv/lib64/python3.12/site-packages/numpy/core/fromnumeric.py:3504: RuntimeWarning: Mean of empty slice.\n",
      "  return _methods._mean(a, axis=axis, dtype=dtype,\n",
      "/home/lanv/Desktop/Faks/mag/SU/assignment-04/.venv/lib64/python3.12/site-packages/numpy/core/_methods.py:129: RuntimeWarning: invalid value encountered in scalar divide\n",
      "  ret = ret.dtype.type(ret / rcount)\n"
     ]
    },
    {
     "name": "stdout",
     "output_type": "stream",
     "text": [
      "train: 2.389096774193548 test: 21.37242424242424 abs: 4.623031931798032 skl:21.329393939393942\n"
     ]
    },
    {
     "name": "stderr",
     "output_type": "stream",
     "text": [
      "/home/lanv/Desktop/Faks/mag/SU/assignment-04/.venv/lib64/python3.12/site-packages/numpy/core/fromnumeric.py:3504: RuntimeWarning: Mean of empty slice.\n",
      "  return _methods._mean(a, axis=axis, dtype=dtype,\n",
      "/home/lanv/Desktop/Faks/mag/SU/assignment-04/.venv/lib64/python3.12/site-packages/numpy/core/_methods.py:129: RuntimeWarning: invalid value encountered in scalar divide\n",
      "  ret = ret.dtype.type(ret / rcount)\n"
     ]
    },
    {
     "name": "stdout",
     "output_type": "stream",
     "text": [
      "train: 3.5078422939068097 test: 84.07848484848483 abs: 9.169432089747152 skl:49.88666666666667\n"
     ]
    },
    {
     "name": "stderr",
     "output_type": "stream",
     "text": [
      "/home/lanv/Desktop/Faks/mag/SU/assignment-04/.venv/lib64/python3.12/site-packages/numpy/core/fromnumeric.py:3504: RuntimeWarning: Mean of empty slice.\n",
      "  return _methods._mean(a, axis=axis, dtype=dtype,\n",
      "/home/lanv/Desktop/Faks/mag/SU/assignment-04/.venv/lib64/python3.12/site-packages/numpy/core/_methods.py:129: RuntimeWarning: invalid value encountered in scalar divide\n",
      "  ret = ret.dtype.type(ret / rcount)\n"
     ]
    },
    {
     "name": "stdout",
     "output_type": "stream",
     "text": [
      "train: 7.30832258064516 test: 14.546969696969699 abs: 3.8140489898491996 skl:17.379696969696965\n"
     ]
    },
    {
     "name": "stderr",
     "output_type": "stream",
     "text": [
      "/home/lanv/Desktop/Faks/mag/SU/assignment-04/.venv/lib64/python3.12/site-packages/numpy/core/fromnumeric.py:3504: RuntimeWarning: Mean of empty slice.\n",
      "  return _methods._mean(a, axis=axis, dtype=dtype,\n",
      "/home/lanv/Desktop/Faks/mag/SU/assignment-04/.venv/lib64/python3.12/site-packages/numpy/core/_methods.py:129: RuntimeWarning: invalid value encountered in scalar divide\n",
      "  ret = ret.dtype.type(ret / rcount)\n"
     ]
    },
    {
     "name": "stdout",
     "output_type": "stream",
     "text": [
      "train: 2.877397849462365 test: 13.160000000000004 abs: 3.6276714294434114 skl:15.725757575757576\n"
     ]
    },
    {
     "name": "stderr",
     "output_type": "stream",
     "text": [
      "/home/lanv/Desktop/Faks/mag/SU/assignment-04/.venv/lib64/python3.12/site-packages/numpy/core/fromnumeric.py:3504: RuntimeWarning: Mean of empty slice.\n",
      "  return _methods._mean(a, axis=axis, dtype=dtype,\n",
      "/home/lanv/Desktop/Faks/mag/SU/assignment-04/.venv/lib64/python3.12/site-packages/numpy/core/_methods.py:129: RuntimeWarning: invalid value encountered in scalar divide\n",
      "  ret = ret.dtype.type(ret / rcount)\n"
     ]
    },
    {
     "name": "stdout",
     "output_type": "stream",
     "text": [
      "train: 4.45021146953405 test: 81.84424242424242 abs: 9.046780776842247 skl:81.91121212121213\n"
     ]
    },
    {
     "name": "stderr",
     "output_type": "stream",
     "text": [
      "/home/lanv/Desktop/Faks/mag/SU/assignment-04/.venv/lib64/python3.12/site-packages/numpy/core/fromnumeric.py:3504: RuntimeWarning: Mean of empty slice.\n",
      "  return _methods._mean(a, axis=axis, dtype=dtype,\n",
      "/home/lanv/Desktop/Faks/mag/SU/assignment-04/.venv/lib64/python3.12/site-packages/numpy/core/_methods.py:129: RuntimeWarning: invalid value encountered in scalar divide\n",
      "  ret = ret.dtype.type(ret / rcount)\n"
     ]
    },
    {
     "name": "stdout",
     "output_type": "stream",
     "text": [
      "train: 1.2353890878501945 test: 137.5848484848485 abs: 11.729656793139707 skl:107.12484848484848\n"
     ]
    },
    {
     "name": "stderr",
     "output_type": "stream",
     "text": [
      "/home/lanv/Desktop/Faks/mag/SU/assignment-04/.venv/lib64/python3.12/site-packages/numpy/core/fromnumeric.py:3504: RuntimeWarning: Mean of empty slice.\n",
      "  return _methods._mean(a, axis=axis, dtype=dtype,\n",
      "/home/lanv/Desktop/Faks/mag/SU/assignment-04/.venv/lib64/python3.12/site-packages/numpy/core/_methods.py:129: RuntimeWarning: invalid value encountered in scalar divide\n",
      "  ret = ret.dtype.type(ret / rcount)\n"
     ]
    },
    {
     "name": "stdout",
     "output_type": "stream",
     "text": [
      "train: 1.8049462365591398 test: 91.6109090909091 abs: 9.571358790208896 skl:88.09363636363636\n"
     ]
    },
    {
     "name": "stderr",
     "output_type": "stream",
     "text": [
      "/home/lanv/Desktop/Faks/mag/SU/assignment-04/.venv/lib64/python3.12/site-packages/numpy/core/fromnumeric.py:3504: RuntimeWarning: Mean of empty slice.\n",
      "  return _methods._mean(a, axis=axis, dtype=dtype,\n",
      "/home/lanv/Desktop/Faks/mag/SU/assignment-04/.venv/lib64/python3.12/site-packages/numpy/core/_methods.py:129: RuntimeWarning: invalid value encountered in scalar divide\n",
      "  ret = ret.dtype.type(ret / rcount)\n"
     ]
    },
    {
     "name": "stdout",
     "output_type": "stream",
     "text": [
      "train: 2.034459283154122 test: 21.22303030303031 abs: 4.606846025539633 skl:17.06939393939394\n"
     ]
    },
    {
     "name": "stderr",
     "output_type": "stream",
     "text": [
      "/home/lanv/Desktop/Faks/mag/SU/assignment-04/.venv/lib64/python3.12/site-packages/numpy/core/fromnumeric.py:3504: RuntimeWarning: Mean of empty slice.\n",
      "  return _methods._mean(a, axis=axis, dtype=dtype,\n",
      "/home/lanv/Desktop/Faks/mag/SU/assignment-04/.venv/lib64/python3.12/site-packages/numpy/core/_methods.py:129: RuntimeWarning: invalid value encountered in scalar divide\n",
      "  ret = ret.dtype.type(ret / rcount)\n"
     ]
    },
    {
     "name": "stdout",
     "output_type": "stream",
     "text": [
      "train: 1.6093118279569891 test: 44.6090909090909 abs: 6.679003736268673 skl:15.505151515151518\n"
     ]
    },
    {
     "data": {
      "image/png": "[encoded data removed]",
      "text/plain": [
       "<Figure size 640x480 with 1 Axes>"
      ]
     },
     "metadata": {},
     "output_type": "display_data"
    }
   ],
   "source": [
    "from sklearn.model_selection import KFold\n",
    "N = 15\n",
    "skl_loss_a = []\n",
    "train_loss_a = []\n",
    "test_loss_a = []\n",
    "\n",
    "kf = KFold(n_splits=N)\n",
    "for train, test in kf.split(np.arange(0, len(X_in))):\n",
    "  x_train = X_in[train, :]\n",
    "  y_train = y_in[train]\n",
    "  x_test = X_in[test, :]\n",
    "  y_test = y_in[test]\n",
    "\n",
    "  regressor = DecisionTreeRegressor()\n",
    "  regressor.fit(x_train, y_train)\n",
    "  y_hat_skl = regressor.predict(x_test)\n",
    "  skl_loss = np.mean(np.square(y_hat_skl - y_test))\n",
    "\n",
    "  node = train_tree(x_train, y_train)\n",
    "\n",
    "  y_hat_train = node.predict(x_train)\n",
    "  train_loss = np.mean(np.square(y_hat_train - y_train))\n",
    "\n",
    "  y_hat_test = node.predict(x_test)\n",
    "  test_loss = np.mean(np.square(y_hat_test - y_test))\n",
    "\n",
    "  skl_loss_a.append(skl_loss)\n",
    "  train_loss_a.append(train_loss)\n",
    "  test_loss_a.append(test_loss)\n",
    "  print(f\"train: {train_loss} test: {test_loss} abs: {np.sqrt(test_loss)} skl:{skl_loss}\")\n",
    "\n",
    "index = np.arange(N)\n",
    "plt.scatter(x=index, y=skl_loss_a, label=\"sklearn\")\n",
    "plt.scatter(x=index, y=train_loss_a, label=\"my train loss\")\n",
    "plt.scatter(x=index, y=test_loss_a, label=\"my test loss\")\n",
    "\n",
    "  # yt = train[-1, :]\n",
    "  # xtest = train[:-1, :]\n",
    "  # ytest = train[-1, :]\n",
    "plt.title(\"Loss in cross validation\")\n",
    "plt.legend()\n",
    "plt.xlabel(\"iteration\")\n",
    "plt.ylabel(\"MSE loss\")\n",
    "plt.show()"
   ]
  },
  {
   "cell_type": "code",
   "execution_count": null,
   "metadata": {},
   "outputs": [],
   "source": [
    "\n"
   ]
  }
 ],
 "metadata": {
  "kernelspec": {
   "display_name": ".venv",
   "language": "python",
   "name": "python3"
  },
  "language_info": {
   "codemirror_mode": {
    "name": "ipython",
    "version": 3
   },
   "file_extension": ".py",
   "mimetype": "text/x-python",
   "name": "python",
   "nbconvert_exporter": "python",
   "pygments_lexer": "ipython3",
   "version": "3.12.0"
  }
 },
 "nbformat": 4,
 "nbformat_minor": 2
}
