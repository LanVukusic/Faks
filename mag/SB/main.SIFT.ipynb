{
 "cells": [
  {
   "cell_type": "code",
   "execution_count": 1,
   "metadata": {},
   "outputs": [],
   "source": [
    "import numpy as np\n",
    "from tqdm import tqdm\n",
    "\n",
    "import cv2 as cv"
   ]
  },
  {
   "cell_type": "code",
   "execution_count": 2,
   "metadata": {},
   "outputs": [],
   "source": [
    "%load_ext autoreload\n",
    "%autoreload 2"
   ]
  },
  {
   "cell_type": "code",
   "execution_count": 17,
   "metadata": {},
   "outputs": [],
   "source": [
    "# settings for LBP\n",
    "radius = 3\n",
    "n_points = 8 * radius\n",
    "\n",
    "def feature_extractor(inp):\n",
    "  c = np.copy(inp[0]).transpose(1,2,0)\n",
    "  gray_image = np.uint8(cv.cvtColor(c, cv.COLOR_BGR2GRAY))\n",
    "  sift = cv.SIFT_create()\n",
    "  kp, des = sift.detectAndCompute(gray_image,None)\n",
    "  if(des is None):\n",
    "    return np.zeros(128)\n",
    "  des = des.mean(axis=0)\n",
    "\n",
    "  return des.ravel()"
   ]
  },
  {
   "cell_type": "code",
   "execution_count": 7,
   "metadata": {},
   "outputs": [],
   "source": [
    "from dataloader import create_dataloaders\n",
    "\n",
    "dir = \"datasets/ears/images-cropped\"\n",
    "\n",
    "test = dir+\"/test\"\n",
    "train = dir+\"/train\"\n",
    "\n",
    "train_loader, val_loader, test_loader, num_classes = create_dataloaders(train, test, 8)"
   ]
  },
  {
   "cell_type": "code",
   "execution_count": 18,
   "metadata": {},
   "outputs": [
    {
     "name": "stderr",
     "output_type": "stream",
     "text": [
      "100%|██████████| 30/30 [00:00<00:00, 45.39it/s]\n"
     ]
    }
   ],
   "source": [
    "\n",
    "\n",
    "def featurize_and_labelrize(loader, l=0):\n",
    "  labels_ar = []\n",
    "  features_ar = []\n",
    "\n",
    "  if(l == 0):\n",
    "    l = len(test_loader)\n",
    "\n",
    "  for b, labels in tqdm(iter(loader.dataset), total=l):\n",
    "    # print( labels, b)\n",
    "    labels_ar.append(labels)\n",
    "    feat_in = b.unsqueeze(dim=0).numpy()\n",
    "    # print(feat_in)\n",
    "    features_ar.append(feature_extractor(feat_in))\n",
    "    if(len(features_ar) > l):\n",
    "      break\n",
    "  \n",
    "  return labels_ar, features_ar\n",
    "\n",
    "labels_ar, features_ar = featurize_and_labelrize(test_loader, 30)"
   ]
  },
  {
   "cell_type": "code",
   "execution_count": 19,
   "metadata": {},
   "outputs": [],
   "source": [
    "from sklearn.metrics import pairwise\n",
    "\n",
    "def calculate_accuracy(features, labels):\n",
    "    similarity_matrix = pairwise.cosine_distances(features)\n",
    "    np.fill_diagonal(similarity_matrix, np.inf)\n",
    "    predicted = labels[np.argmin(similarity_matrix, axis=0)]\n",
    "\n",
    "    return np.mean(predicted == labels), np.sum(predicted == labels), similarity_matrix"
   ]
  },
  {
   "cell_type": "code",
   "execution_count": 20,
   "metadata": {},
   "outputs": [
    {
     "name": "stdout",
     "output_type": "stream",
     "text": [
      "mean score: 0.06451612903225806\n",
      " predicted: 2/31\n"
     ]
    },
    {
     "data": {
      "text/plain": [
       "<matplotlib.image.AxesImage at 0x7f4f38dccf90>"
      ]
     },
     "execution_count": 20,
     "metadata": {},
     "output_type": "execute_result"
    },
    {
     "data": {
      "image/png": "[encoded data removed]",
      "text/plain": [
       "<Figure size 640x480 with 1 Axes>"
      ]
     },
     "metadata": {},
     "output_type": "display_data"
    }
   ],
   "source": [
    "f = np.array(features_ar).reshape(len(features_ar), -1)\n",
    "l = np.array(labels_ar)\n",
    "mmean, msum, matrix = calculate_accuracy(features=f, labels=l)\n",
    "\n",
    "import matplotlib.pyplot as plt\n",
    "\n",
    "print(f\"mean score: {mmean}\\n predicted: {msum}/{len(features_ar)}\")\n",
    "plt.imshow(matrix)"
   ]
  }
 ],
 "metadata": {
  "kernelspec": {
   "display_name": "venv",
   "language": "python",
   "name": "python3"
  },
  "language_info": {
   "codemirror_mode": {
    "name": "ipython",
    "version": 3
   },
   "file_extension": ".py",
   "mimetype": "text/x-python",
   "name": "python",
   "nbconvert_exporter": "python",
   "pygments_lexer": "ipython3",
   "version": "3.11.7"
  }
 },
 "nbformat": 4,
 "nbformat_minor": 2
}
