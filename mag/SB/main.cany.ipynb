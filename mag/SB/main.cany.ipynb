{
 "cells": [
  {
   "cell_type": "code",
   "execution_count": 3,
   "metadata": {},
   "outputs": [],
   "source": [
    "import numpy as np\n",
    "from tqdm import tqdm\n",
    "\n",
    "import cv2 as cv"
   ]
  },
  {
   "cell_type": "code",
   "execution_count": 19,
   "metadata": {},
   "outputs": [
    {
     "name": "stdout",
     "output_type": "stream",
     "text": [
      "The autoreload extension is already loaded. To reload it, use:\n",
      "  %reload_ext autoreload\n"
     ]
    }
   ],
   "source": [
    "%load_ext autoreload\n",
    "%autoreload 2"
   ]
  },
  {
   "cell_type": "code",
   "execution_count": 56,
   "metadata": {},
   "outputs": [],
   "source": [
    "import matplotlib.pyplot as plt\n",
    "def feature_extractor(inp):\n",
    "  c = np.copy(inp[0]).transpose(1,2,0)\n",
    "  gray_image = np.uint8(cv.cvtColor(c, cv.COLOR_BGR2GRAY) )\n",
    "  cv.Canny(gray_image,100,200)\n",
    "  return gray_image.ravel()"
   ]
  },
  {
   "cell_type": "code",
   "execution_count": 57,
   "metadata": {},
   "outputs": [],
   "source": [
    "from dataloader import create_dataloaders\n",
    "\n",
    "dir = \"datasets/ears/images-cropped\"\n",
    "\n",
    "test = dir+\"/test\"\n",
    "train = dir+\"/train\"\n",
    "\n",
    "train_loader, val_loader, test_loader, num_classes = create_dataloaders(train, test, 8)"
   ]
  },
  {
   "cell_type": "code",
   "execution_count": 59,
   "metadata": {},
   "outputs": [
    {
     "name": "stderr",
     "output_type": "stream",
     "text": [
      "100%|██████████| 40/40 [00:00<00:00, 137.51it/s]\n"
     ]
    }
   ],
   "source": [
    "\n",
    "\n",
    "def featurize_and_labelrize(loader, l=0):\n",
    "  labels_ar = []\n",
    "  features_ar = []\n",
    "\n",
    "  if(l == 0):\n",
    "    l = len(test_loader)\n",
    "\n",
    "  for b, labels in tqdm(iter(loader.dataset), total=l):\n",
    "    # print( labels, b)\n",
    "    labels_ar.append(labels)\n",
    "    feat_in = b.unsqueeze(dim=0).numpy()\n",
    "    # print(feat_in)\n",
    "    features_ar.append(feature_extractor(feat_in))\n",
    "    if(len(features_ar) > l):\n",
    "      break\n",
    "  \n",
    "  return labels_ar, features_ar\n",
    "\n",
    "labels_ar, features_ar = featurize_and_labelrize(test_loader, 40)"
   ]
  },
  {
   "cell_type": "code",
   "execution_count": 60,
   "metadata": {},
   "outputs": [],
   "source": [
    "from sklearn.metrics import pairwise\n",
    "\n",
    "def calculate_accuracy(features, labels):\n",
    "    similarity_matrix = pairwise.cosine_distances(features)\n",
    "    np.fill_diagonal(similarity_matrix, np.inf)\n",
    "    predicted = labels[np.argmin(similarity_matrix, axis=0)]\n",
    "\n",
    "    return np.mean(predicted == labels), np.sum(predicted == labels), similarity_matrix"
   ]
  },
  {
   "cell_type": "code",
   "execution_count": 61,
   "metadata": {},
   "outputs": [
    {
     "name": "stdout",
     "output_type": "stream",
     "text": [
      "mean score: 0.07317073170731707\n",
      " predicted: 3/41\n"
     ]
    },
    {
     "data": {
      "text/plain": [
       "<matplotlib.image.AxesImage at 0x7fe847f4f910>"
      ]
     },
     "execution_count": 61,
     "metadata": {},
     "output_type": "execute_result"
    },
    {
     "data": {
      "image/png": "[encoded data removed]",
      "text/plain": [
       "<Figure size 640x480 with 1 Axes>"
      ]
     },
     "metadata": {},
     "output_type": "display_data"
    }
   ],
   "source": [
    "f = np.array(features_ar).reshape(len(features_ar), -1)\n",
    "l = np.array(labels_ar)\n",
    "mmean, msum, matrix = calculate_accuracy(features=f, labels=l)\n",
    "\n",
    "import matplotlib.pyplot as plt\n",
    "\n",
    "print(f\"mean score: {mmean}\\n predicted: {msum}/{len(features_ar)}\")\n",
    "plt.imshow(matrix)"
   ]
  }
 ],
 "metadata": {
  "kernelspec": {
   "display_name": "venv",
   "language": "python",
   "name": "python3"
  },
  "language_info": {
   "codemirror_mode": {
    "name": "ipython",
    "version": 3
   },
   "file_extension": ".py",
   "mimetype": "text/x-python",
   "name": "python",
   "nbconvert_exporter": "python",
   "pygments_lexer": "ipython3",
   "version": "3.11.7"
  }
 },
 "nbformat": 4,
 "nbformat_minor": 2
}
